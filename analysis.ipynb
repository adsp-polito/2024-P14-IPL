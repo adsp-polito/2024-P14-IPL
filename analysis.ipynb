{
 "cells": [
  {
   "metadata": {},
   "cell_type": "markdown",
   "source": "# Project",
   "id": "66c7d8995068d97a"
  },
  {
   "metadata": {},
   "cell_type": "markdown",
   "source": " ## Product Rating",
   "id": "f76a12932189a8d2"
  },
  {
   "metadata": {
    "ExecuteTime": {
     "end_time": "2024-11-22T16:02:38.850870Z",
     "start_time": "2024-11-22T16:02:31.323497Z"
    }
   },
   "cell_type": "code",
   "source": [
    "from sympy.strategies.core import switch\n",
    "# Load model directly\n",
    "from transformers import AutoTokenizer, AutoModelForSequenceClassification\n",
    "import pandas as pd\n",
    "import torch\n",
    "tokenizer = AutoTokenizer.from_pretrained(\"nlptown/bert-base-multilingual-uncased-sentiment\")\n",
    "model = AutoModelForSequenceClassification.from_pretrained(\"nlptown/bert-base-multilingual-uncased-sentiment\")\n",
    "\n",
    "\n",
    "# Carica il primo dataset\n",
    "dataset1 = pd.read_csv(\"Tiny Eco Wonderflow3.csv\", sep=\";\", on_bad_lines=\"skip\")  # Prova con \";\" come separatore\n",
    "dataset1.columns = dataset1.columns.str.strip()\n",
    "\n",
    "# Estrai la colonna 'text' dal primo dataset\n",
    "texts1 = dataset1['text'].dropna()\n",
    "texts1 = texts1[texts1.str.strip() != '']\n",
    "\n",
    "# Rimuovi gli spazi all'inizio e alla fine del testo, e le nuove righe extra nel primo dataset\n",
    "texts1_cleaned = texts1.str.replace(r'\\s+', ' ', regex=True)  # Rimuove spazi extra (compresi \\n e \\t)\n",
    "texts1 = texts1_cleaned.str.strip()  # Rimuove gli spazi ai bordi\n",
    "\n",
    "###\n",
    "\n",
    "# Carica il secondo dataset\n",
    "dataset2 = pd.read_csv(\"Tiny Eco Digimind.csv\", sep=\";\", on_bad_lines=\"skip\") \n",
    "dataset2.columns = dataset2.columns.str.strip()\n",
    "\n",
    "# Estrai e concatena 'Title' e 'Detail' nel secondo dataset\n",
    "texts2 = dataset2['Title'].fillna('') + ' ' + dataset2['Detail'].fillna('')\n",
    "texts2 = texts2[texts2.str.strip() != '']\n",
    "\n",
    "# Unisci i due datasets di testo (puoi usare un'unica variabile per combinarli)\n",
    "texts= pd.concat([texts1, texts2], ignore_index=True)\n",
    "\n",
    "#texts è solo il primo \n",
    "texts=texts1\n",
    "\n",
    "\n",
    "# Funzione per ottenere il sentiment per ogni testo\n",
    "def get_sentiment(text, true_sentiment):\n",
    "    # Tokenizza il testo\n",
    "    inputs = tokenizer(text, return_tensors=\"pt\", truncation=True, padding=True, max_length=512)\n",
    "\n",
    "    # Invia il testo attraverso il modello\n",
    "    with torch.no_grad():\n",
    "        outputs = model(**inputs)\n",
    "\n",
    "    # Ottieni le probabilità di sentiment (5 classi da 0 a 4)\n",
    "    sentiment_scores = outputs.logits\n",
    "    sentiment = torch.argmax(sentiment_scores, dim=1).item()  # Ottieni la classe con la probabilità più alta\n",
    "\n",
    "    sentiment = sentiment + 1  # Mappa da 0-4 a 1-5\n",
    "\n",
    "    return {'text': text, 'sentiment': sentiment, 'trueSentiment': true_sentiment}\n",
    "\n",
    "# Applica la funzione di sentiment analysis a tutti i testi\n",
    "sentiments = [get_sentiment(text, true_sentiment) for text, true_sentiment in zip(texts, dataset1['feedbackRating'])]\n",
    "\n",
    "print(sentiments)\n",
    "\n",
    "# Converte i risultati in un DataFrame\n",
    "#sentiments_df = pd.DataFrame(sentiments)\n",
    "\n",
    "# Calcola l'accuratezza: confronta sentiment e trueSentiment\n",
    "#correct_predictions = (sentiments_df['sentiment'] == sentiments_df['trueSentiment']).sum()\n",
    "#accuracy = correct_predictions / len(sentiments_df) * 100\n",
    "\n",
    "# Calcola l'accuracy off-by-one: quando la differenza tra sentiment e trueSentiment è 1\n",
    "#accuracy_off_by_one = (abs(sentiments_df['trueSentiment'] - sentiments_df['sentiment']) <= 1).sum()\n",
    "#accuracy_off_by_one_percent = accuracy_off_by_one / len(sentiments_df) * 100\n",
    "\n",
    "\n",
    "# Stampa l'accuratezza e l'accuracy-1\n",
    "#print(f\"Accuracy: {accuracy:.2f}%\")\n",
    "#print(f\"Accuracy off-by-one: {accuracy_off_by_one_percent:.2f}%\")\n",
    "\n",
    "#accuracy 30%, off by one 65.4%"
   ],
   "id": "10eaea7804c055f",
   "outputs": [
    {
     "name": "stdout",
     "output_type": "stream",
     "text": [
      "[{'text': 'Utilizzo semplice', 'sentiment': 4, 'trueSentiment': 5}, {'text': 'Molto piccola,design molto bello Per ora nessuno', 'sentiment': 3, 'trueSentiment': 5}, {'text': 'Semplicità Nessuno', 'sentiment': 5, 'trueSentiment': 5}, {'text': 'Avwvo il modello precedente e in questa il serbatoio acqua è molto piccolo così come il contenitore sotto bicchiere , l ho comprata color rosa ma in effetti non è come nella foto è un rosa grigio opaco.', 'sentiment': 2, 'trueSentiment': 4}, {'text': 'Non è ingombrante e facile da usare Spegnimento è il blocco del caffè', 'sentiment': 3, 'trueSentiment': 5}, {'text': 'Caffè bello cremoso', 'sentiment': 5, 'trueSentiment': 4}, {'text': 'Semplice e Bella Tiene poca acqua', 'sentiment': 3, 'trueSentiment': 5}, {'text': 'Facile da usare, bella nel design e poco ingombrante ! Il serbatoio dell’acqua è diventato poco capiente, inoltre insufficiente il cassetto raccogli goccia !', 'sentiment': 3, 'trueSentiment': 5}, {'text': 'Tutto fantastico', 'sentiment': 5, 'trueSentiment': 5}, {'text': 'The dimension. Color.', 'sentiment': 5, 'trueSentiment': 5}, {'text': 'Semplice da usare Serbatoio piccolo e cassetto raccogli liquidi piccolo', 'sentiment': 3, 'trueSentiment': 5}, {'text': 'Facilità Nessuno', 'sentiment': 1, 'trueSentiment': 5}, {'text': 'Completamente soddisfatto', 'sentiment': 5, 'trueSentiment': 5}, {'text': \"Avevo già una macchina lavazza tiny che mi ha lasciato dopo circa tre anni, dal momento che faceva un ottimo caffè ho deciso di acquistarne un'altra con il nuovo design. Unica pecca a mio avviso il contenitore raccogli acqua troppo piccolo.\", 'sentiment': 3, 'trueSentiment': 5}, {'text': 'Caffè molto caldo e buono Contenito acqua troppo piccolo come il raccogli gocce', 'sentiment': 3, 'trueSentiment': 5}, {'text': 'È molto bella esteticamente . Mi piace perché decido io la quantità del caffè. Per il momento non ho notato nulla di negativo.', 'sentiment': 4, 'trueSentiment': 5}, {'text': 'Ho comprato questo articolo 3 settimane fa e sono molto soddisfatto, design fantastico, ottima funzionalità, pronta in pochi secondi, capsule compatibili (io uso Borbone). Soddisfatto.', 'sentiment': 5, 'trueSentiment': 5}, {'text': \"Prodotto molto buono consiglio l'acquisto unica pecca dover togliere la capsula ad ogni caffe\", 'sentiment': 4, 'trueSentiment': 5}, {'text': 'Molto compatta Contenitore acqua si stacca facilmente ed è facile da cadere', 'sentiment': 4, 'trueSentiment': 4}, {'text': \"Poco ingombrante, semplicità di uso e ottimo funzionamento!!! Ogni cialda va tolta prima dell'uso successivo, ma questo si è dimostrato utilissimo per non creare il solito deposito di cialde.... CONSIGLIATISSIMA NESSUNO\", 'sentiment': 5, 'trueSentiment': 4}, {'text': 'Lavazza Tiny è compatta rispetto alla mia prima macchina del caffè Lavazza a modo mio...pratica e veloce da pulire..il colore che ho scelto abbina benissimo alle mattonelle del bancone..caffè come al solito perfetto e caldissimo come piace a me..spero mi duri quanto la precedente...per ora tutto va alla grande..', 'sentiment': 5, 'trueSentiment': 5}, {'text': 'macchina ben realizzata compatta semplice 🤙 consiglio', 'sentiment': 5, 'trueSentiment': 5}, {'text': 'Arrivata con largo anticipo rispetto la data che era stata indicata . Ben imballata , prodotto funzionante . Rispetto al modello precedente ( tiny) sembrerebbe più grande ma con vaschetta per l’acqua leggermente più piccola . Per il resto siam soddisfatti 😀', 'sentiment': 4, 'trueSentiment': 5}, {'text': 'Ottima macchinetta consigliata, unica pecca il contenitore del acqua troppo piccolo del resto eccellente', 'sentiment': 4, 'trueSentiment': 5}, {'text': \"Per il momento funziona bene ed eroga un buon caffè con cialde originali.... spero duri di più della precedente....sempre effettuata manutenzione di pulizia calcare ma durata solo un'anno poi mandata in garanzia, sostituita con altra e durata anch'essa un' annetto\", 'sentiment': 4, 'trueSentiment': 5}, {'text': \"BUONASERA,mi e'arrivata SENZA NE'SCONTRINO,NE' FATTURA,,POTREBBE INVIARMI QUALCOSA ALMENO PER EVENTUALE GARANZIA???LA RINGRAZIO...\", 'sentiment': 1, 'trueSentiment': 5}, {'text': 'Conoscevo questa macchinetta perché anni fa mi era stato regalato un modello del tutto simile. Questa versione sembra aver risolto alcuni difetti riscontrati nel vecchio modello (es:Meno vibrazioni e rumore) e posso ritenermi soddisfatta dell\\'acquisto. L\\'unica \"nota negativa\" (se così posso dire) può essere il costo che quando non è in sconto è davvero fuori da quello che per me è considerato un normale rapporto \"Qualità/Prezzo\" che in questo caso è fortemente sbilanciato verso l\\'alto. Per fortuna in questo negozio ho trovato un\\'ottima offerta e altrettanto buono è stato il servizio spedizione/consegna.', 'sentiment': 4, 'trueSentiment': 5}, {'text': 'Molto carina e buono il caffè', 'sentiment': 4, 'trueSentiment': 5}, {'text': 'La macchinetta è carina ma serbatoio piccolo e base bassa in caso di gocciolamento fuoriesce dopo tre caffè perché poco capiente', 'sentiment': 2, 'trueSentiment': 4}, {'text': 'Ottima macchinetta per caffè espresso. Consigliatissima. Spedizione rapida e precisa.', 'sentiment': 5, 'trueSentiment': 3}, {'text': \"Bella esteticamente e pratica, piu' compatta delle altre\", 'sentiment': 4, 'trueSentiment': 5}, {'text': \"Esteticamente accattivante. Un pelino ingombrante rispetto alla capacità del serbatoio d'acqua che é di soli 0,6 lt\", 'sentiment': 2, 'trueSentiment': 5}, {'text': 'Caffè ben caldo Serbatoio acqua piccolo', 'sentiment': 4, 'trueSentiment': 4}, {'text': 'Manegevole e facile da pulire non ha il raccolta capsule', 'sentiment': 4, 'trueSentiment': 5}, {'text': 'The color.', 'sentiment': 4, 'trueSentiment': 5}, {'text': 'Semplicità di utilizzo. Serbatoio acqua poco capiente.', 'sentiment': 3, 'trueSentiment': 5}, {'text': 'Si scalda subito Rumorosa', 'sentiment': 2, 'trueSentiment': 5}, {'text': 'Il fatto che sia così piccola e compatta. La posso mettere ovunque Al momento non ne ho riscontrato.', 'sentiment': 3, 'trueSentiment': 5}, {'text': 'la possiedo da 15 giorni e devo dire che il caffè e buono. ci sono molti tipi di capsule per accontentare qualsiasi persona.', 'sentiment': 4, 'trueSentiment': 5}, {'text': 'Eccellente la macchina, educatissimo il corriere. Grazie', 'sentiment': 5, 'trueSentiment': 5}, {'text': 'Spedizione veloce e prodotto a buon prezzo. Estetica semplice e carina', 'sentiment': 4, 'trueSentiment': 2}, {'text': 'Ottimo prodotto', 'sentiment': 5, 'trueSentiment': 4}, {'text': 'La macchina è perfetta nella sua semplicità. Il venditore alla richiesta della prova d’acquisto non ha risposto', 'sentiment': 5, 'trueSentiment': 5}, {'text': 'Lavazza tiny ok. Spedizione con sda/poste italiane poco consigliata, abbiamo avuto difficoltà a ricevere quanto ordinato', 'sentiment': 2, 'trueSentiment': 4}, {'text': 'Ho comprato questo articolo scegliendolo online ed è esattamente come me lo aspettavo: piccolino, funzionale, perfetto! Rapporto qualità prezzo ottimo', 'sentiment': 5, 'trueSentiment': 5}, {'text': 'Purtroppo il caffè non mi piace, esce freddo e troppo lungo nonostante arresto prima il pulsante. Il serbatoio è piccolino. Mi aspettavo di meglio.', 'sentiment': 2, 'trueSentiment': 5}, {'text': 'Ottima macchina per il caffè. Vi consiglio di usare acqua addolcita per non avere problemi di calcare.', 'sentiment': 5, 'trueSentiment': 5}, {'text': \"Cosa non pensata dall'acquirente, capacità contenitore acqua abbastanza piccolo. Contenitore deposito acqua e caffè stagnante quasi inesistente\", 'sentiment': 2, 'trueSentiment': 5}, {'text': 'Ho comprato questa macchinetta per un regalo. Direi che il regalo è stato aprezzato 😉', 'sentiment': 5, 'trueSentiment': 4}, {'text': 'Materiale come richiesto.Spedizione come sempre veloce.', 'sentiment': 5, 'trueSentiment': 5}, {'text': 'Ho comprato questo prodotto una settimana fa ed è davvero ottimo', 'sentiment': 5, 'trueSentiment': 5}, {'text': 'Macchina che occupa poco spazio, ottimo caffè, bella da vedere', 'sentiment': 5, 'trueSentiment': 4}, {'text': 'Buon prodotto!! Come me l’aspettavo. Ottimo!!!! Acquisterò ancora.', 'sentiment': 5, 'trueSentiment': 4}, {'text': 'Buon rapporto qualità prezzo. Arrivata nei tempi indicati.', 'sentiment': 4, 'trueSentiment': 5}, {'text': 'Bella, comoda ed efficiente. Facile da usare e pulire.', 'sentiment': 5, 'trueSentiment': 5}, {'text': 'Caffè viene buono ,ha il serbatoio dell’acqua un po’ piccolo io la uso per una seconda casa', 'sentiment': 3, 'trueSentiment': 5}, {'text': 'Ottima macchina per caffè espresso', 'sentiment': 5, 'trueSentiment': 4}, {'text': 'Forse è presto per recensire , ma al momento posso dire che è un buon acquisto... ero abituata alle cialde, ma devo dire che il caffè è buono e la macchina è funzionale semplice e silenziosa. La consiglio', 'sentiment': 4, 'trueSentiment': 5}, {'text': \"Piccola comoda e buonissimo caffè ... L unica pecca il contenitore dell' acqua piccolo per chi fa tanti caffè in un giorno ,ma sicuramente problemino sopportabile\", 'sentiment': 4, 'trueSentiment': 4}, {'text': 'Macchinetta top, serbatoio giusto, unica cosa cassettino sotto per la raccolta del caffè piccolino', 'sentiment': 4, 'trueSentiment': 5}, {'text': 'ho comprato questo articolo 1 mese fa e sono molto soddisfatta', 'sentiment': 5, 'trueSentiment': 1}, {'text': 'Buona per ora.', 'sentiment': 4, 'trueSentiment': 5}, {'text': 'Veramente ottima. Sono molto soddisfatto dell’acquisto.', 'sentiment': 5, 'trueSentiment': 3}, {'text': 'Decisamente una bella macchina per il caffè, ma era quello che cercavo. Troppo grossa con serbatoio dell’ acqua piccolo', 'sentiment': 3, 'trueSentiment': 5}, {'text': 'Come L aspettavo!! Ottima qualità prezzo !! Voto 9!', 'sentiment': 5, 'trueSentiment': 5}, {'text': 'Questa macchina per il caffè la consiglio vivamente,fa un caffè eccezionale ! Dipende sempre dalla marca di caffè che si utilizza ma lo come al bar. Io ho comprato sia capsule Lavazza,sia capsule Borbone e mi son trovato molto bene', 'sentiment': 5, 'trueSentiment': 5}, {'text': 'Un prodotto banale ad un prezzo eccessivo niente di straordinario vi sono prodotti di eugual prezzo molto più ricchi di tecnologia', 'sentiment': 2, 'trueSentiment': 4}, {'text': 'Dopo 1 mese, ho già portata in assistenza per problemi di erogazione! Sarà un caso? Non so ma è capitato proprio a me!', 'sentiment': 1, 'trueSentiment': 5}, {'text': \"Considerando il prezzo d'acquisto della macchina di caffè Lavazza Tiny eco , usandola fa un caffè eccezionale cremoso e denso ottimo acquisto lo consiglio anche per un regalo saluti\", 'sentiment': 5, 'trueSentiment': 5}, {'text': \"Avevo il modello precedente e mi sono trovato molto bene. Questo nuovo prodotto presenta un serbatoio molto più piccolo e a mio avviso era più comodo il precedente. La rumorosità e' sempre la stessa la potevano diminuire. Con la stessa miscela il caffè e' meno forte di prima. Secondo me hanno risparmiato con questo modello . Anche il prezzo sembra un alto ...,........\", 'sentiment': 4, 'trueSentiment': 5}, {'text': 'prodotto ottimo', 'sentiment': 5, 'trueSentiment': 4}, {'text': 'Caffè molto caldo e buono Contenito acqua troppo piccolo come il raccogli gocce', 'sentiment': 3, 'trueSentiment': 5}, {'text': 'Buongiorno mi chiamo simona e in riguardo all’ ‘acquisto devo dire che lo aquistata per una persona anziana ed è molto facile da usare e funziona benissimo', 'sentiment': 5, 'trueSentiment': 5}, {'text': 'La semplicità della linea e la facilità di pulizia dell apparecchio Il tasto spegnimento accensione un po’ noioso da capire..essendo lo stesso. Devi tenere premuto per qualche secondo e per capirlo ci metti un po’!', 'sentiment': 3, 'trueSentiment': 4}, {'text': 'Funziona bene, è pratica, piuttosto solida. La uso da qualche mese e non riscontro problemi. Il prezzo è troppo alto per un prodotto che offre le funzioni di base, evidentemente subisce i rincari generalizzati del mercato.', 'sentiment': 4, 'trueSentiment': 5}, {'text': 'Semplicità Nessuno', 'sentiment': 5, 'trueSentiment': 5}, {'text': 'Semplicità Nessuno', 'sentiment': 5, 'trueSentiment': 5}, {'text': 'Si scalda subito Rumorosa', 'sentiment': 2, 'trueSentiment': 5}, {'text': \"la macchina perde acqua alla base. in base alla garanzia l'ho portata a mediaword per la riparazione, ma il tempo passa e mi ritrovo senza macchina. per questo ne ho comprata un'altra con la speranza che non abbia il difetto constato nella prima. ho fatto varie telefonate ma nessuno ha saputo darmi una risposta per la restituzione (dopo riparazione)\", 'sentiment': 1, 'trueSentiment': 4}, {'text': 'Ottima macchina bella ed ecologica', 'sentiment': 5, 'trueSentiment': 4}, {'text': 'Facile da usare ed economica, non trovo note negative da segnalare. La consiglio.', 'sentiment': 4, 'trueSentiment': 5}, {'text': 'Chiedono se vuoi fare reso Raee e se accetti ti mandano amazon shipping che non fa ritiri....meglio comprare direttamente da amazon', 'sentiment': 1, 'trueSentiment': 2}, {'text': \"Sono molto soddisfatto per l'acquisto, qualità prezzo eccellente\", 'sentiment': 5, 'trueSentiment': 1}, {'text': 'Bellissima macchina facile da usare e pulire ottima estetica', 'sentiment': 5, 'trueSentiment': 4}, {'text': 'Bellissima, caffè caldo.', 'sentiment': 5, 'trueSentiment': 5}, {'text': \"Tutto ok ho dato nella media su facilità pulizia semplicemente per il fatto che la pulizia anticalcare non si può acquistare il prodotto con facilità nei supermercati dove c'é di tutto ma non tale prodotto.\", 'sentiment': 3, 'trueSentiment': 5}, {'text': 'Hi comprato questo articolo qualche settimana fa e sono molto soddisfatta. Caffè buono, e macchinetta molto semplice da utilizzare.', 'sentiment': 5, 'trueSentiment': 3}, {'text': 'Ottima funzionalità ed ottima qualità del caffè. Vale la pena prenderla, provarla e farla diventare un oggetto della propria quotidianità.', 'sentiment': 5, 'trueSentiment': 5}, {'text': 'Un caffe da 5 stelle grazie m word la macchinetta tiny è fantastica e facilissima da usare.', 'sentiment': 5, 'trueSentiment': 5}, {'text': 'Ho comrato questo articolo da un mese e sono molto felice', 'sentiment': 5, 'trueSentiment': 4}, {'text': \"La macchina da subito non mi ha convinto, poco dopo ha iniziato a fate un caffè disgustoso, ho provato a fare il lavaggio e cambiare più Marche di caffè compreso le originali, niente da fare ho contattato il venditore il quale mi ha consigliato di rivolgermi direttamente all'assistenza lavazza, mia madre stesso prodotto stesso identico problema.\", 'sentiment': 1, 'trueSentiment': 5}, {'text': 'Non vale il prezzo, 80/90€ e non ha nemmeno il porta capsule. Ogni cialda va messa e tolta.', 'sentiment': 1, 'trueSentiment': 5}, {'text': \"Macchina per il caffè valida e qualità/prezzo molto buona. la pecca piu' importante è il forte rumore quando eroga il caffè.\", 'sentiment': 4, 'trueSentiment': 4}, {'text': 'Ottima macchina fa il suo dovere', 'sentiment': 5, 'trueSentiment': 2}, {'text': 'Super macchina del caffè, pratica, semplice nell’utilizzo, design e soprattutto fa un caffè super.', 'sentiment': 5, 'trueSentiment': 4}, {'text': 'Ottimo prodotto! Soddisfatti dell’acquisto', 'sentiment': 5, 'trueSentiment': 5}, {'text': 'Bella nel design, facile da pulire, tempo di riscaldamento veramente poco, pronta in qualche secondo per gustare un caffè come al bar', 'sentiment': 3, 'trueSentiment': 1}, {'text': 'Prodotto aderente alla presentazione! 😁 Unica pecca sonoDeluso dalle modalità della consegna del corriere incaricato !!!!!!', 'sentiment': 4, 'trueSentiment': 5}, {'text': 'Perfetta', 'sentiment': 5, 'trueSentiment': 4}, {'text': 'Ottimo prodotto', 'sentiment': 5, 'trueSentiment': 5}, {'text': 'Aspetto negativo: serbatoio raccolta acqua di scarto troppo piccolo', 'sentiment': 2, 'trueSentiment': 5}, {'text': 'Estetica unita a praticità in poco spazio.', 'sentiment': 4, 'trueSentiment': 5}, {'text': 'Comodissima e poco ingombrante. Il caffè è ottimo e sempre bollente. Sono totalmente soddisfatta.', 'sentiment': 5, 'trueSentiment': 5}, {'text': 'Macchina carina unico problema serbatoio molto piccolo.', 'sentiment': 3, 'trueSentiment': 5}, {'text': 'Super.', 'sentiment': 5, 'trueSentiment': 5}, {'text': 'Il serbatoio è piccolo e sinceramente la tiny primo modello mi pareva meglio.', 'sentiment': 3, 'trueSentiment': 1}, {'text': \"Finalmente una macchinetta della lavazza che non perde acqua come le precedenti. Venditore davvero gentile, l'ho contattato per un ritardo nella consegna ed ha risolto il problema velocemente.\", 'sentiment': 5, 'trueSentiment': 3}, {'text': 'Leggere facile da pulire, caffè buono consiglio.', 'sentiment': 4, 'trueSentiment': 4}, {'text': 'Come da descrizione.', 'sentiment': 5, 'trueSentiment': 4}, {'text': 'Buona macchina per il caffè, caffè cremoso e buono.', 'sentiment': 4, 'trueSentiment': 5}, {'text': 'Ottimo e consegnato nei tempi.', 'sentiment': 5, 'trueSentiment': 5}, {'text': 'Nemmeno il tempo di ordinare questa macchinetta del caffè. Che il corriere suona per consegnarla! Prodotto top 10+ Venditore consigliato.', 'sentiment': 5, 'trueSentiment': 5}, {'text': 'Prodotto buono come da descrizione. Recapitato in 3 giorni ma del colore sbagliato. Ordinato bianco ma ricevuto nero.', 'sentiment': 3, 'trueSentiment': 5}, {'text': 'Ottima macchina da caffè.', 'sentiment': 5, 'trueSentiment': 5}, {'text': 'Ottimo rapporto qualità - prezzo. Consigliata.', 'sentiment': 5, 'trueSentiment': 5}, {'text': 'Prodotto eccezionale! Pratico e professionale.', 'sentiment': 5, 'trueSentiment': 4}, {'text': 'Prodotto ottimo anche come qualità/prezzo', 'sentiment': 5, 'trueSentiment': 4}, {'text': \"Posseggo il precedente modello che utilizzo in un'altra casa e, non essendo più in produzione la vecchia tiny, ho deciso di acquistare questa. Lato positivo è che fa un ottimo caffè e ci mette pochissimo tempo a riscaldarsi. Più rumorosa della precedente ha altresì un altro paio di difetti un po' antipatici: il serbatoio dell'acqua è molto piccolo e va riempito di continuo e la vaschetta raccogli acqua è veramente minuscola e, anche se svuotata ogni 3 o 4 erogazioni, si riempie e lascia trasbordare l'acqua sul ripiano su cui è appoggiata la macchina. Tutto sommato la ricomprerei ma è stato un passo indietro rispetto al modello precedente.\", 'sentiment': 3, 'trueSentiment': 5}, {'text': 'La macchina è andata bene per un mese ora perde acqua da tutte le parti', 'sentiment': 1, 'trueSentiment': 3}, {'text': 'Facile da usare funzionale', 'sentiment': 4, 'trueSentiment': 5}, {'text': 'An excellent espresso coffee machine, in my opinion, makes a coffee cream very similar to that of the café: The previous Nespresso machine was not up to par with this one.', 'sentiment': 5, 'trueSentiment': 4}, {'text': 'Great purchase, only the water tank is a bit small.', 'sentiment': 4, 'trueSentiment': 5}, {'text': 'Great coffee machine at an affordable price. Very efficient and quite quiet.', 'sentiment': 5, 'trueSentiment': 3}, {'text': 'Compact, simple, very valid, a guarantee of reliability.', 'sentiment': 5, 'trueSentiment': 5}, {'text': 'Definitely a great purchase. This coffee machine, functioning with easily available pods on Amazon, works perfectly and guarantees a good and creamy coffee, better than that of the bar!', 'sentiment': 5, 'trueSentiment': 4}, {'text': 'I highly recommend.', 'sentiment': 5, 'trueSentiment': 5}, {'text': 'Semplice e funzionale. Ottimo rapporto qualità - prezzo', 'sentiment': 5, 'trueSentiment': 5}, {'text': 'Ottimo prodotto 5 stelle su tutto.', 'sentiment': 5, 'trueSentiment': 2}, {'text': 'Macchina de caffè fantastica: pratica, semplice all’utilizzo e alla pulizia, il caffè viene buonissimo con una cremina perfetta. Oltre ad essere super nella sua funzione ha il giusto desig che puoi inserire in qualsiasi ambiente. In casa usiamo solo questa macchina del caffè perciò sono andata a colpo sicuro.', 'sentiment': 5, 'trueSentiment': 4}, {'text': 'Bella e compatta, si scalda piuttosto velocemente non è particolarmente silenziosa ma considerando il breve tempo in cui ci mette a preparare il caffè è accettabile', 'sentiment': 4, 'trueSentiment': 5}]\n"
     ]
    }
   ],
   "execution_count": 14
  },
  {
   "metadata": {},
   "cell_type": "markdown",
   "source": "## Sentiment Classifier ",
   "id": "caf187edced0049f"
  },
  {
   "metadata": {
    "ExecuteTime": {
     "end_time": "2024-11-22T17:07:06.898448Z",
     "start_time": "2024-11-22T17:07:05.996097Z"
    }
   },
   "cell_type": "code",
   "source": [
    "# Load model directly\n",
    "from transformers import AutoTokenizer, AutoModelForSequenceClassification\n",
    "from sklearn.metrics import accuracy_score\n",
    "\n",
    "tokenizer = AutoTokenizer.from_pretrained(\"lxyuan/distilbert-base-multilingual-cased-sentiments-student\")\n",
    "model = AutoModelForSequenceClassification.from_pretrained(\"lxyuan/distilbert-base-multilingual-cased-sentiments-student\")\n",
    "\n",
    "#questo print ci fa sapere queli sono le label \n",
    "#print(model.config.id2label)\n",
    "\n",
    "# Carica il secondo dataset\n",
    "dataset2 = pd.read_csv(\"Tiny Eco Digimind.csv\", sep=\";\", on_bad_lines=\"skip\")\n",
    "dataset2.columns = dataset2.columns.str.strip()\n",
    "\n",
    "texts2= texts2.str.replace(r'\\s+', ' ', regex=True)  # Rimuove spazi extra (compresi \\n e \\t)\n",
    "texts2 = texts2.str.strip().str.replace('\\n', ' ', regex=True)\n",
    "\n",
    "trueSentiment2 = dataset2['Sentiment'].str.strip()\n",
    "\n",
    "def get_sentiment(text, true_sentiment):\n",
    "    # Tokenizza il testo\n",
    "    inputs = tokenizer(text, return_tensors=\"pt\", truncation=True, padding=True, max_length=512)\n",
    "\n",
    "    # Invia il testo attraverso il modello\n",
    "    with torch.no_grad():\n",
    "        outputs = model(**inputs)\n",
    "\n",
    "    # Ottieni le probabilità di sentiment (5 classi da 0 a 4)\n",
    "    sentiment_scores = outputs.logits\n",
    "    sentiment_numeric = torch.argmax(sentiment_scores, dim=1).item()  # Ottieni la classe con la probabilità più alta\n",
    "\n",
    "    # Mappa numeri a etichette\n",
    "    sentiment_map = {\n",
    "        0: \"Positive\",\n",
    "        1: \"No sentiment\",\n",
    "        2: \"Negative\"\n",
    "    }\n",
    "    sentiment = sentiment_map.get(sentiment_numeric, \"Unknown\")  # Default a 'Unknown' per valori imprevisti\n",
    "\n",
    "    return {'sentiment': sentiment, 'trueSentiment': true_sentiment}\n",
    "\n",
    "\n",
    "# Applica la funzione di sentiment analysis a tutti i testi\n",
    "sentiments2 = [get_sentiment(text2, true_sentiment) for text2, true_sentiment in zip(texts2, trueSentiment2)]\n",
    "\n",
    "# Estrai le predizioni e i sentimenti veri\n",
    "predicted_sentiments = [item['sentiment'] for item in sentiments2]\n",
    "true_sentiments = list(trueSentiment2)\n",
    "\n",
    "# Calcola l'accuracy\n",
    "accuracy = accuracy_score(true_sentiments, predicted_sentiments)\n",
    "\n",
    "# Stampa il risultato\n",
    "print(f\"Accuracy: {accuracy:.2%}\")\n"
   ],
   "id": "8baae40e1aeb36b2",
   "outputs": [
    {
     "name": "stdout",
     "output_type": "stream",
     "text": [
      "{0: 'positive', 1: 'neutral', 2: 'negative'}\n"
     ]
    }
   ],
   "execution_count": 35
  },
  {
   "metadata": {},
   "cell_type": "markdown",
   "source": "This model has an accuracy of 35.01%, now we will evaluate another sentiment classifier and see which one works better.",
   "id": "ed727dded58c4b5b"
  },
  {
   "metadata": {
    "ExecuteTime": {
     "end_time": "2024-11-22T17:12:30.610826Z",
     "start_time": "2024-11-22T17:11:19.342087Z"
    }
   },
   "cell_type": "code",
   "source": [
    "# Load model directly\n",
    "from transformers import AutoTokenizer, AutoModelForSequenceClassification\n",
    "from sklearn.metrics import accuracy_score\n",
    "\n",
    "# Verifica se la GPU è disponibile\n",
    "device = torch.device(\"cuda\" if torch.cuda.is_available() else \"cpu\")\n",
    "print(f\"Using device: {device}\")\n",
    "\n",
    "tokenizer = AutoTokenizer.from_pretrained(\"citizenlab/twitter-xlm-roberta-base-sentiment-finetunned\")\n",
    "model = AutoModelForSequenceClassification.from_pretrained(\"citizenlab/twitter-xlm-roberta-base-sentiment-finetunned\")\n",
    "\n",
    "#print(model.config.id2label)\n",
    "\n",
    "\n",
    "# Carica il secondo dataset\n",
    "dataset2 = pd.read_csv(\"Tiny Eco Digimind.csv\", sep=\";\", on_bad_lines=\"skip\")\n",
    "dataset2.columns = dataset2.columns.str.strip()\n",
    "\n",
    "texts2= texts2.str.replace(r'\\s+', ' ', regex=True)  # Rimuove spazi extra (compresi \\n e \\t)\n",
    "texts2 = texts2.str.strip().str.replace('\\n', ' ', regex=True)\n",
    "\n",
    "trueSentiment2 = dataset2['Sentiment'].str.strip()\n",
    "\n",
    "def get_sentiment(text, true_sentiment):\n",
    "    # Tokenizza il testo\n",
    "    inputs = tokenizer(text, return_tensors=\"pt\", truncation=True, padding=True, max_length=512)\n",
    "\n",
    "    # Invia il testo attraverso il modello\n",
    "    with torch.no_grad():\n",
    "        outputs = model(**inputs)\n",
    "\n",
    "    # Ottieni le probabilità di sentiment (5 classi da 0 a 4)\n",
    "    sentiment_scores = outputs.logits\n",
    "    sentiment_numeric = torch.argmax(sentiment_scores, dim=1).item()  # Ottieni la classe con la probabilità più alta\n",
    "\n",
    "    # Mappa numeri a etichette\n",
    "    sentiment_map = {\n",
    "        0: \"Negative\",\n",
    "        1: \"No sentiment\",\n",
    "        2: \"Positive\"\n",
    "    }\n",
    "    sentiment = sentiment_map.get(sentiment_numeric, \"Unknown\")  # Default a 'Unknown' per valori imprevisti\n",
    "\n",
    "    return {'sentiment': sentiment, 'trueSentiment': true_sentiment}\n",
    "\n",
    "# Applica la funzione di sentiment analysis a tutti i testi\n",
    "sentiments3 = [get_sentiment(text2, true_sentiment) for text2, true_sentiment in zip(texts2, trueSentiment2)]\n",
    "\n",
    "print(sentiments3)\n",
    "\n",
    "# Estrai le predizioni e i sentimenti veri\n",
    "predicted_sentiments = [item['sentiment'] for item in sentiments3]\n",
    "true_sentiments = list(trueSentiment2)\n",
    "\n",
    "# Calcola l'accuracy\n",
    "accuracy = accuracy_score(true_sentiments, predicted_sentiments)\n",
    "\n",
    "# Stampa il risultato\n",
    "print(f\"Accuracy: {accuracy:.2%}\")"
   ],
   "id": "cbae04f72c52b6b6",
   "outputs": [
    {
     "name": "stdout",
     "output_type": "stream",
     "text": [
      "Using device: cuda\n",
      "[{'sentiment': 'No sentiment', 'trueSentiment': 'Positive'}, {'sentiment': 'No sentiment', 'trueSentiment': 'Positive'}, {'sentiment': 'No sentiment', 'trueSentiment': 'No sentiment'}, {'sentiment': 'No sentiment', 'trueSentiment': 'No sentiment'}, {'sentiment': 'No sentiment', 'trueSentiment': 'Positive'}, {'sentiment': 'No sentiment', 'trueSentiment': 'Positive'}, {'sentiment': 'No sentiment', 'trueSentiment': 'Positive'}, {'sentiment': 'No sentiment', 'trueSentiment': 'No sentiment'}, {'sentiment': 'No sentiment', 'trueSentiment': 'Positive'}, {'sentiment': 'No sentiment', 'trueSentiment': 'Positive'}, {'sentiment': 'No sentiment', 'trueSentiment': 'Positive'}, {'sentiment': 'No sentiment', 'trueSentiment': 'Positive'}, {'sentiment': 'No sentiment', 'trueSentiment': 'No sentiment'}, {'sentiment': 'No sentiment', 'trueSentiment': 'No sentiment'}, {'sentiment': 'No sentiment', 'trueSentiment': 'No sentiment'}, {'sentiment': 'No sentiment', 'trueSentiment': 'No sentiment'}, {'sentiment': 'No sentiment', 'trueSentiment': 'No sentiment'}, {'sentiment': 'No sentiment', 'trueSentiment': 'Positive'}, {'sentiment': 'No sentiment', 'trueSentiment': 'Neutral'}, {'sentiment': 'No sentiment', 'trueSentiment': 'Positive'}, {'sentiment': 'No sentiment', 'trueSentiment': 'Positive'}, {'sentiment': 'No sentiment', 'trueSentiment': 'Positive'}, {'sentiment': 'No sentiment', 'trueSentiment': 'No sentiment'}, {'sentiment': 'No sentiment', 'trueSentiment': 'Positive'}, {'sentiment': 'No sentiment', 'trueSentiment': 'Positive'}, {'sentiment': 'No sentiment', 'trueSentiment': 'Positive'}, {'sentiment': 'No sentiment', 'trueSentiment': 'Positive'}, {'sentiment': 'No sentiment', 'trueSentiment': 'No sentiment'}, {'sentiment': 'No sentiment', 'trueSentiment': 'No sentiment'}, {'sentiment': 'No sentiment', 'trueSentiment': 'No sentiment'}, {'sentiment': 'No sentiment', 'trueSentiment': 'Positive'}, {'sentiment': 'No sentiment', 'trueSentiment': 'No sentiment'}, {'sentiment': 'No sentiment', 'trueSentiment': 'No sentiment'}, {'sentiment': 'No sentiment', 'trueSentiment': 'No sentiment'}, {'sentiment': 'Positive', 'trueSentiment': 'Positive'}, {'sentiment': 'No sentiment', 'trueSentiment': 'No sentiment'}, {'sentiment': 'No sentiment', 'trueSentiment': 'No sentiment'}, {'sentiment': 'No sentiment', 'trueSentiment': 'No sentiment'}, {'sentiment': 'No sentiment', 'trueSentiment': 'Positive'}, {'sentiment': 'No sentiment', 'trueSentiment': 'Neutral'}, {'sentiment': 'No sentiment', 'trueSentiment': 'No sentiment'}, {'sentiment': 'No sentiment', 'trueSentiment': 'Positive'}, {'sentiment': 'No sentiment', 'trueSentiment': 'No sentiment'}, {'sentiment': 'No sentiment', 'trueSentiment': 'No sentiment'}, {'sentiment': 'No sentiment', 'trueSentiment': 'No sentiment'}, {'sentiment': 'No sentiment', 'trueSentiment': 'No sentiment'}, {'sentiment': 'No sentiment', 'trueSentiment': 'No sentiment'}, {'sentiment': 'No sentiment', 'trueSentiment': 'No sentiment'}, {'sentiment': 'No sentiment', 'trueSentiment': 'No sentiment'}, {'sentiment': 'No sentiment', 'trueSentiment': 'No sentiment'}, {'sentiment': 'No sentiment', 'trueSentiment': 'No sentiment'}, {'sentiment': 'No sentiment', 'trueSentiment': 'No sentiment'}, {'sentiment': 'No sentiment', 'trueSentiment': 'No sentiment'}, {'sentiment': 'No sentiment', 'trueSentiment': 'No sentiment'}, {'sentiment': 'No sentiment', 'trueSentiment': 'Positive'}, {'sentiment': 'No sentiment', 'trueSentiment': 'No sentiment'}, {'sentiment': 'No sentiment', 'trueSentiment': 'No sentiment'}, {'sentiment': 'No sentiment', 'trueSentiment': 'No sentiment'}, {'sentiment': 'No sentiment', 'trueSentiment': 'No sentiment'}, {'sentiment': 'No sentiment', 'trueSentiment': 'No sentiment'}, {'sentiment': 'No sentiment', 'trueSentiment': 'Positive'}, {'sentiment': 'No sentiment', 'trueSentiment': 'No sentiment'}, {'sentiment': 'No sentiment', 'trueSentiment': 'No sentiment'}, {'sentiment': 'No sentiment', 'trueSentiment': 'No sentiment'}, {'sentiment': 'No sentiment', 'trueSentiment': 'Positive'}, {'sentiment': 'No sentiment', 'trueSentiment': 'No sentiment'}, {'sentiment': 'No sentiment', 'trueSentiment': 'No sentiment'}, {'sentiment': 'No sentiment', 'trueSentiment': 'Positive'}, {'sentiment': 'No sentiment', 'trueSentiment': 'Positive'}, {'sentiment': 'No sentiment', 'trueSentiment': 'Positive'}, {'sentiment': 'No sentiment', 'trueSentiment': 'Positive'}, {'sentiment': 'No sentiment', 'trueSentiment': 'Positive'}, {'sentiment': 'No sentiment', 'trueSentiment': 'Positive'}, {'sentiment': 'No sentiment', 'trueSentiment': 'Positive'}, {'sentiment': 'No sentiment', 'trueSentiment': 'No sentiment'}, {'sentiment': 'No sentiment', 'trueSentiment': 'Positive'}, {'sentiment': 'No sentiment', 'trueSentiment': 'No sentiment'}, {'sentiment': 'No sentiment', 'trueSentiment': 'Positive'}, {'sentiment': 'Positive', 'trueSentiment': 'Neutral'}, {'sentiment': 'No sentiment', 'trueSentiment': 'Positive'}, {'sentiment': 'No sentiment', 'trueSentiment': 'No sentiment'}, {'sentiment': 'No sentiment', 'trueSentiment': 'Positive'}, {'sentiment': 'No sentiment', 'trueSentiment': 'No sentiment'}, {'sentiment': 'No sentiment', 'trueSentiment': 'No sentiment'}, {'sentiment': 'No sentiment', 'trueSentiment': 'Positive'}, {'sentiment': 'No sentiment', 'trueSentiment': 'Positive'}, {'sentiment': 'No sentiment', 'trueSentiment': 'Neutral'}, {'sentiment': 'Positive', 'trueSentiment': 'Positive'}, {'sentiment': 'No sentiment', 'trueSentiment': 'Positive'}, {'sentiment': 'No sentiment', 'trueSentiment': 'No sentiment'}, {'sentiment': 'No sentiment', 'trueSentiment': 'No sentiment'}, {'sentiment': 'No sentiment', 'trueSentiment': 'Positive'}, {'sentiment': 'No sentiment', 'trueSentiment': 'No sentiment'}, {'sentiment': 'No sentiment', 'trueSentiment': 'Positive'}, {'sentiment': 'No sentiment', 'trueSentiment': 'No sentiment'}, {'sentiment': 'No sentiment', 'trueSentiment': 'No sentiment'}, {'sentiment': 'No sentiment', 'trueSentiment': 'Positive'}, {'sentiment': 'No sentiment', 'trueSentiment': 'No sentiment'}, {'sentiment': 'No sentiment', 'trueSentiment': 'No sentiment'}, {'sentiment': 'Negative', 'trueSentiment': 'No sentiment'}, {'sentiment': 'No sentiment', 'trueSentiment': 'Positive'}, {'sentiment': 'No sentiment', 'trueSentiment': 'Positive'}, {'sentiment': 'Positive', 'trueSentiment': 'Positive'}, {'sentiment': 'No sentiment', 'trueSentiment': 'Positive'}, {'sentiment': 'No sentiment', 'trueSentiment': 'No sentiment'}, {'sentiment': 'No sentiment', 'trueSentiment': 'Positive'}, {'sentiment': 'No sentiment', 'trueSentiment': 'No sentiment'}, {'sentiment': 'No sentiment', 'trueSentiment': 'Positive'}, {'sentiment': 'No sentiment', 'trueSentiment': 'Neutral'}, {'sentiment': 'No sentiment', 'trueSentiment': 'Negative'}, {'sentiment': 'No sentiment', 'trueSentiment': 'Neutral'}, {'sentiment': 'No sentiment', 'trueSentiment': 'Positive'}, {'sentiment': 'No sentiment', 'trueSentiment': 'No sentiment'}, {'sentiment': 'No sentiment', 'trueSentiment': 'No sentiment'}, {'sentiment': 'No sentiment', 'trueSentiment': 'No sentiment'}, {'sentiment': 'No sentiment', 'trueSentiment': 'Positive'}, {'sentiment': 'No sentiment', 'trueSentiment': 'No sentiment'}, {'sentiment': 'No sentiment', 'trueSentiment': 'Negative'}, {'sentiment': 'No sentiment', 'trueSentiment': 'No sentiment'}, {'sentiment': 'No sentiment', 'trueSentiment': 'Positive'}, {'sentiment': 'No sentiment', 'trueSentiment': 'No sentiment'}, {'sentiment': 'No sentiment', 'trueSentiment': 'No sentiment'}, {'sentiment': 'No sentiment', 'trueSentiment': 'No sentiment'}, {'sentiment': 'No sentiment', 'trueSentiment': 'No sentiment'}, {'sentiment': 'No sentiment', 'trueSentiment': 'No sentiment'}, {'sentiment': 'No sentiment', 'trueSentiment': 'Positive'}, {'sentiment': 'No sentiment', 'trueSentiment': 'No sentiment'}, {'sentiment': 'No sentiment', 'trueSentiment': 'Positive'}, {'sentiment': 'No sentiment', 'trueSentiment': 'No sentiment'}, {'sentiment': 'Positive', 'trueSentiment': 'Negative'}, {'sentiment': 'No sentiment', 'trueSentiment': 'No sentiment'}, {'sentiment': 'No sentiment', 'trueSentiment': 'No sentiment'}, {'sentiment': 'No sentiment', 'trueSentiment': 'Positive'}, {'sentiment': 'No sentiment', 'trueSentiment': 'No sentiment'}, {'sentiment': 'No sentiment', 'trueSentiment': 'No sentiment'}, {'sentiment': 'No sentiment', 'trueSentiment': 'No sentiment'}, {'sentiment': 'No sentiment', 'trueSentiment': 'No sentiment'}, {'sentiment': 'No sentiment', 'trueSentiment': 'No sentiment'}, {'sentiment': 'No sentiment', 'trueSentiment': 'Positive'}, {'sentiment': 'No sentiment', 'trueSentiment': 'No sentiment'}, {'sentiment': 'No sentiment', 'trueSentiment': 'No sentiment'}, {'sentiment': 'No sentiment', 'trueSentiment': 'No sentiment'}, {'sentiment': 'No sentiment', 'trueSentiment': 'No sentiment'}, {'sentiment': 'No sentiment', 'trueSentiment': 'Positive'}, {'sentiment': 'No sentiment', 'trueSentiment': 'No sentiment'}, {'sentiment': 'No sentiment', 'trueSentiment': 'No sentiment'}, {'sentiment': 'No sentiment', 'trueSentiment': 'No sentiment'}, {'sentiment': 'No sentiment', 'trueSentiment': 'No sentiment'}, {'sentiment': 'No sentiment', 'trueSentiment': 'No sentiment'}, {'sentiment': 'No sentiment', 'trueSentiment': 'No sentiment'}, {'sentiment': 'No sentiment', 'trueSentiment': 'No sentiment'}, {'sentiment': 'No sentiment', 'trueSentiment': 'No sentiment'}, {'sentiment': 'No sentiment', 'trueSentiment': 'Positive'}, {'sentiment': 'No sentiment', 'trueSentiment': 'Positive'}, {'sentiment': 'No sentiment', 'trueSentiment': 'No sentiment'}, {'sentiment': 'No sentiment', 'trueSentiment': 'No sentiment'}, {'sentiment': 'No sentiment', 'trueSentiment': 'No sentiment'}, {'sentiment': 'No sentiment', 'trueSentiment': 'No sentiment'}, {'sentiment': 'No sentiment', 'trueSentiment': 'No sentiment'}, {'sentiment': 'No sentiment', 'trueSentiment': 'No sentiment'}, {'sentiment': 'No sentiment', 'trueSentiment': 'No sentiment'}, {'sentiment': 'No sentiment', 'trueSentiment': 'No sentiment'}, {'sentiment': 'No sentiment', 'trueSentiment': 'Negative'}, {'sentiment': 'No sentiment', 'trueSentiment': 'No sentiment'}, {'sentiment': 'No sentiment', 'trueSentiment': 'Positive'}, {'sentiment': 'No sentiment', 'trueSentiment': 'Positive'}, {'sentiment': 'No sentiment', 'trueSentiment': 'Positive'}, {'sentiment': 'No sentiment', 'trueSentiment': 'No sentiment'}, {'sentiment': 'No sentiment', 'trueSentiment': 'No sentiment'}, {'sentiment': 'No sentiment', 'trueSentiment': 'No sentiment'}, {'sentiment': 'No sentiment', 'trueSentiment': 'Positive'}, {'sentiment': 'No sentiment', 'trueSentiment': 'Positive'}, {'sentiment': 'No sentiment', 'trueSentiment': 'Positive'}, {'sentiment': 'No sentiment', 'trueSentiment': 'No sentiment'}, {'sentiment': 'No sentiment', 'trueSentiment': 'No sentiment'}, {'sentiment': 'No sentiment', 'trueSentiment': 'No sentiment'}, {'sentiment': 'No sentiment', 'trueSentiment': 'No sentiment'}, {'sentiment': 'No sentiment', 'trueSentiment': 'No sentiment'}, {'sentiment': 'No sentiment', 'trueSentiment': 'No sentiment'}, {'sentiment': 'No sentiment', 'trueSentiment': 'No sentiment'}, {'sentiment': 'No sentiment', 'trueSentiment': 'Positive'}, {'sentiment': 'No sentiment', 'trueSentiment': 'Positive'}, {'sentiment': 'No sentiment', 'trueSentiment': 'No sentiment'}, {'sentiment': 'No sentiment', 'trueSentiment': 'No sentiment'}, {'sentiment': 'No sentiment', 'trueSentiment': 'No sentiment'}, {'sentiment': 'No sentiment', 'trueSentiment': 'No sentiment'}, {'sentiment': 'No sentiment', 'trueSentiment': 'Positive'}, {'sentiment': 'No sentiment', 'trueSentiment': 'Positive'}, {'sentiment': 'No sentiment', 'trueSentiment': 'Positive'}, {'sentiment': 'Positive', 'trueSentiment': 'No sentiment'}, {'sentiment': 'No sentiment', 'trueSentiment': 'No sentiment'}, {'sentiment': 'No sentiment', 'trueSentiment': 'Positive'}, {'sentiment': 'Positive', 'trueSentiment': 'No sentiment'}, {'sentiment': 'No sentiment', 'trueSentiment': 'No sentiment'}, {'sentiment': 'No sentiment', 'trueSentiment': 'No sentiment'}, {'sentiment': 'No sentiment', 'trueSentiment': 'No sentiment'}, {'sentiment': 'No sentiment', 'trueSentiment': 'No sentiment'}, {'sentiment': 'No sentiment', 'trueSentiment': 'No sentiment'}, {'sentiment': 'No sentiment', 'trueSentiment': 'No sentiment'}, {'sentiment': 'No sentiment', 'trueSentiment': 'No sentiment'}, {'sentiment': 'No sentiment', 'trueSentiment': 'No sentiment'}, {'sentiment': 'No sentiment', 'trueSentiment': 'No sentiment'}, {'sentiment': 'No sentiment', 'trueSentiment': 'No sentiment'}, {'sentiment': 'No sentiment', 'trueSentiment': 'No sentiment'}, {'sentiment': 'No sentiment', 'trueSentiment': 'Positive'}, {'sentiment': 'No sentiment', 'trueSentiment': 'No sentiment'}, {'sentiment': 'No sentiment', 'trueSentiment': 'Negative'}, {'sentiment': 'No sentiment', 'trueSentiment': 'No sentiment'}, {'sentiment': 'No sentiment', 'trueSentiment': 'Positive'}, {'sentiment': 'No sentiment', 'trueSentiment': 'Positive'}, {'sentiment': 'No sentiment', 'trueSentiment': 'Positive'}, {'sentiment': 'No sentiment', 'trueSentiment': 'Positive'}, {'sentiment': 'No sentiment', 'trueSentiment': 'Positive'}, {'sentiment': 'No sentiment', 'trueSentiment': 'No sentiment'}, {'sentiment': 'No sentiment', 'trueSentiment': 'Neutral'}, {'sentiment': 'No sentiment', 'trueSentiment': 'Neutral'}, {'sentiment': 'No sentiment', 'trueSentiment': 'Positive'}, {'sentiment': 'No sentiment', 'trueSentiment': 'No sentiment'}, {'sentiment': 'No sentiment', 'trueSentiment': 'Positive'}, {'sentiment': 'No sentiment', 'trueSentiment': 'Positive'}, {'sentiment': 'No sentiment', 'trueSentiment': 'Positive'}, {'sentiment': 'No sentiment', 'trueSentiment': 'No sentiment'}, {'sentiment': 'No sentiment', 'trueSentiment': 'Positive'}, {'sentiment': 'No sentiment', 'trueSentiment': 'Positive'}, {'sentiment': 'No sentiment', 'trueSentiment': 'Positive'}, {'sentiment': 'No sentiment', 'trueSentiment': 'Positive'}, {'sentiment': 'No sentiment', 'trueSentiment': 'Positive'}, {'sentiment': 'No sentiment', 'trueSentiment': 'No sentiment'}, {'sentiment': 'No sentiment', 'trueSentiment': 'No sentiment'}, {'sentiment': 'Positive', 'trueSentiment': 'Positive'}, {'sentiment': 'Positive', 'trueSentiment': 'Positive'}, {'sentiment': 'No sentiment', 'trueSentiment': 'Positive'}, {'sentiment': 'No sentiment', 'trueSentiment': 'Positive'}, {'sentiment': 'No sentiment', 'trueSentiment': 'Positive'}, {'sentiment': 'No sentiment', 'trueSentiment': 'Neutral'}, {'sentiment': 'No sentiment', 'trueSentiment': 'Positive'}, {'sentiment': 'No sentiment', 'trueSentiment': 'Positive'}, {'sentiment': 'No sentiment', 'trueSentiment': 'No sentiment'}, {'sentiment': 'No sentiment', 'trueSentiment': 'Positive'}, {'sentiment': 'Positive', 'trueSentiment': 'Positive'}, {'sentiment': 'No sentiment', 'trueSentiment': 'No sentiment'}, {'sentiment': 'No sentiment', 'trueSentiment': 'No sentiment'}, {'sentiment': 'No sentiment', 'trueSentiment': 'Positive'}, {'sentiment': 'No sentiment', 'trueSentiment': 'Positive'}, {'sentiment': 'No sentiment', 'trueSentiment': 'No sentiment'}, {'sentiment': 'No sentiment', 'trueSentiment': 'No sentiment'}, {'sentiment': 'No sentiment', 'trueSentiment': 'No sentiment'}, {'sentiment': 'No sentiment', 'trueSentiment': 'No sentiment'}, {'sentiment': 'Positive', 'trueSentiment': 'Positive'}, {'sentiment': 'No sentiment', 'trueSentiment': 'Positive'}, {'sentiment': 'No sentiment', 'trueSentiment': 'Positive'}, {'sentiment': 'No sentiment', 'trueSentiment': 'Positive'}, {'sentiment': 'No sentiment', 'trueSentiment': 'No sentiment'}, {'sentiment': 'No sentiment', 'trueSentiment': 'No sentiment'}, {'sentiment': 'No sentiment', 'trueSentiment': 'Positive'}, {'sentiment': 'No sentiment', 'trueSentiment': 'Positive'}, {'sentiment': 'No sentiment', 'trueSentiment': 'Positive'}, {'sentiment': 'No sentiment', 'trueSentiment': 'No sentiment'}, {'sentiment': 'No sentiment', 'trueSentiment': 'No sentiment'}, {'sentiment': 'No sentiment', 'trueSentiment': 'No sentiment'}, {'sentiment': 'No sentiment', 'trueSentiment': 'No sentiment'}, {'sentiment': 'No sentiment', 'trueSentiment': 'Positive'}, {'sentiment': 'No sentiment', 'trueSentiment': 'Positive'}, {'sentiment': 'No sentiment', 'trueSentiment': 'Positive'}, {'sentiment': 'No sentiment', 'trueSentiment': 'Positive'}, {'sentiment': 'No sentiment', 'trueSentiment': 'No sentiment'}, {'sentiment': 'No sentiment', 'trueSentiment': 'Positive'}, {'sentiment': 'No sentiment', 'trueSentiment': 'Positive'}, {'sentiment': 'No sentiment', 'trueSentiment': 'Positive'}, {'sentiment': 'No sentiment', 'trueSentiment': 'Neutral'}, {'sentiment': 'No sentiment', 'trueSentiment': 'No sentiment'}, {'sentiment': 'No sentiment', 'trueSentiment': 'No sentiment'}, {'sentiment': 'No sentiment', 'trueSentiment': 'Negative'}, {'sentiment': 'No sentiment', 'trueSentiment': 'Positive'}, {'sentiment': 'No sentiment', 'trueSentiment': 'Neutral'}, {'sentiment': 'No sentiment', 'trueSentiment': 'Neutral'}, {'sentiment': 'No sentiment', 'trueSentiment': 'Positive'}, {'sentiment': 'No sentiment', 'trueSentiment': 'No sentiment'}, {'sentiment': 'No sentiment', 'trueSentiment': 'Positive'}, {'sentiment': 'Positive', 'trueSentiment': 'Positive'}, {'sentiment': 'No sentiment', 'trueSentiment': 'Negative'}, {'sentiment': 'No sentiment', 'trueSentiment': 'Negative'}, {'sentiment': 'No sentiment', 'trueSentiment': 'Positive'}, {'sentiment': 'No sentiment', 'trueSentiment': 'Positive'}, {'sentiment': 'No sentiment', 'trueSentiment': 'No sentiment'}, {'sentiment': 'No sentiment', 'trueSentiment': 'No sentiment'}, {'sentiment': 'No sentiment', 'trueSentiment': 'No sentiment'}, {'sentiment': 'No sentiment', 'trueSentiment': 'Positive'}, {'sentiment': 'No sentiment', 'trueSentiment': 'No sentiment'}, {'sentiment': 'No sentiment', 'trueSentiment': 'Positive'}, {'sentiment': 'No sentiment', 'trueSentiment': 'Positive'}, {'sentiment': 'No sentiment', 'trueSentiment': 'No sentiment'}, {'sentiment': 'No sentiment', 'trueSentiment': 'Positive'}, {'sentiment': 'No sentiment', 'trueSentiment': 'Positive'}, {'sentiment': 'No sentiment', 'trueSentiment': 'Positive'}, {'sentiment': 'No sentiment', 'trueSentiment': 'Negative'}, {'sentiment': 'No sentiment', 'trueSentiment': 'No sentiment'}, {'sentiment': 'No sentiment', 'trueSentiment': 'Positive'}, {'sentiment': 'No sentiment', 'trueSentiment': 'No sentiment'}, {'sentiment': 'No sentiment', 'trueSentiment': 'No sentiment'}, {'sentiment': 'No sentiment', 'trueSentiment': 'Positive'}, {'sentiment': 'No sentiment', 'trueSentiment': 'No sentiment'}, {'sentiment': 'No sentiment', 'trueSentiment': 'Positive'}, {'sentiment': 'No sentiment', 'trueSentiment': 'No sentiment'}, {'sentiment': 'No sentiment', 'trueSentiment': 'No sentiment'}, {'sentiment': 'No sentiment', 'trueSentiment': 'Positive'}, {'sentiment': 'No sentiment', 'trueSentiment': 'No sentiment'}, {'sentiment': 'No sentiment', 'trueSentiment': 'Positive'}, {'sentiment': 'No sentiment', 'trueSentiment': 'No sentiment'}, {'sentiment': 'No sentiment', 'trueSentiment': 'No sentiment'}, {'sentiment': 'No sentiment', 'trueSentiment': 'No sentiment'}, {'sentiment': 'No sentiment', 'trueSentiment': 'Positive'}, {'sentiment': 'No sentiment', 'trueSentiment': 'Positive'}, {'sentiment': 'No sentiment', 'trueSentiment': 'Positive'}, {'sentiment': 'No sentiment', 'trueSentiment': 'Positive'}, {'sentiment': 'No sentiment', 'trueSentiment': 'No sentiment'}, {'sentiment': 'No sentiment', 'trueSentiment': 'No sentiment'}, {'sentiment': 'No sentiment', 'trueSentiment': 'Negative'}, {'sentiment': 'No sentiment', 'trueSentiment': 'Positive'}, {'sentiment': 'No sentiment', 'trueSentiment': 'No sentiment'}, {'sentiment': 'No sentiment', 'trueSentiment': 'No sentiment'}, {'sentiment': 'No sentiment', 'trueSentiment': 'No sentiment'}, {'sentiment': 'No sentiment', 'trueSentiment': 'Positive'}, {'sentiment': 'No sentiment', 'trueSentiment': 'Positive'}, {'sentiment': 'No sentiment', 'trueSentiment': 'Negative'}, {'sentiment': 'No sentiment', 'trueSentiment': 'No sentiment'}, {'sentiment': 'No sentiment', 'trueSentiment': 'No sentiment'}, {'sentiment': 'No sentiment', 'trueSentiment': 'Positive'}, {'sentiment': 'No sentiment', 'trueSentiment': 'No sentiment'}, {'sentiment': 'No sentiment', 'trueSentiment': 'No sentiment'}, {'sentiment': 'No sentiment', 'trueSentiment': 'No sentiment'}, {'sentiment': 'No sentiment', 'trueSentiment': 'Neutral'}, {'sentiment': 'No sentiment', 'trueSentiment': 'No sentiment'}, {'sentiment': 'No sentiment', 'trueSentiment': 'Positive'}, {'sentiment': 'No sentiment', 'trueSentiment': 'No sentiment'}, {'sentiment': 'No sentiment', 'trueSentiment': 'No sentiment'}, {'sentiment': 'No sentiment', 'trueSentiment': 'No sentiment'}, {'sentiment': 'No sentiment', 'trueSentiment': 'No sentiment'}, {'sentiment': 'No sentiment', 'trueSentiment': 'No sentiment'}, {'sentiment': 'No sentiment', 'trueSentiment': 'No sentiment'}, {'sentiment': 'No sentiment', 'trueSentiment': 'No sentiment'}, {'sentiment': 'No sentiment', 'trueSentiment': 'Positive'}, {'sentiment': 'No sentiment', 'trueSentiment': 'No sentiment'}, {'sentiment': 'No sentiment', 'trueSentiment': 'No sentiment'}, {'sentiment': 'No sentiment', 'trueSentiment': 'Positive'}, {'sentiment': 'No sentiment', 'trueSentiment': 'Positive'}, {'sentiment': 'No sentiment', 'trueSentiment': 'Positive'}, {'sentiment': 'No sentiment', 'trueSentiment': 'No sentiment'}, {'sentiment': 'No sentiment', 'trueSentiment': 'No sentiment'}, {'sentiment': 'No sentiment', 'trueSentiment': 'No sentiment'}, {'sentiment': 'No sentiment', 'trueSentiment': 'No sentiment'}, {'sentiment': 'No sentiment', 'trueSentiment': 'No sentiment'}, {'sentiment': 'No sentiment', 'trueSentiment': 'No sentiment'}, {'sentiment': 'No sentiment', 'trueSentiment': 'Positive'}, {'sentiment': 'No sentiment', 'trueSentiment': 'Positive'}, {'sentiment': 'No sentiment', 'trueSentiment': 'No sentiment'}, {'sentiment': 'No sentiment', 'trueSentiment': 'No sentiment'}, {'sentiment': 'No sentiment', 'trueSentiment': 'No sentiment'}, {'sentiment': 'No sentiment', 'trueSentiment': 'No sentiment'}, {'sentiment': 'No sentiment', 'trueSentiment': 'No sentiment'}, {'sentiment': 'No sentiment', 'trueSentiment': 'Positive'}, {'sentiment': 'No sentiment', 'trueSentiment': 'No sentiment'}, {'sentiment': 'No sentiment', 'trueSentiment': 'Positive'}, {'sentiment': 'No sentiment', 'trueSentiment': 'No sentiment'}, {'sentiment': 'No sentiment', 'trueSentiment': 'Positive'}, {'sentiment': 'No sentiment', 'trueSentiment': 'Positive'}, {'sentiment': 'No sentiment', 'trueSentiment': 'No sentiment'}, {'sentiment': 'Positive', 'trueSentiment': 'No sentiment'}, {'sentiment': 'No sentiment', 'trueSentiment': 'No sentiment'}, {'sentiment': 'No sentiment', 'trueSentiment': 'Positive'}, {'sentiment': 'No sentiment', 'trueSentiment': 'No sentiment'}, {'sentiment': 'No sentiment', 'trueSentiment': 'Neutral'}, {'sentiment': 'No sentiment', 'trueSentiment': 'Positive'}, {'sentiment': 'No sentiment', 'trueSentiment': 'No sentiment'}, {'sentiment': 'No sentiment', 'trueSentiment': 'No sentiment'}, {'sentiment': 'No sentiment', 'trueSentiment': 'No sentiment'}, {'sentiment': 'No sentiment', 'trueSentiment': 'No sentiment'}, {'sentiment': 'No sentiment', 'trueSentiment': 'No sentiment'}, {'sentiment': 'No sentiment', 'trueSentiment': 'No sentiment'}, {'sentiment': 'No sentiment', 'trueSentiment': 'No sentiment'}, {'sentiment': 'No sentiment', 'trueSentiment': 'No sentiment'}, {'sentiment': 'No sentiment', 'trueSentiment': 'No sentiment'}, {'sentiment': 'No sentiment', 'trueSentiment': 'No sentiment'}, {'sentiment': 'No sentiment', 'trueSentiment': 'No sentiment'}, {'sentiment': 'No sentiment', 'trueSentiment': 'No sentiment'}, {'sentiment': 'No sentiment', 'trueSentiment': 'No sentiment'}, {'sentiment': 'No sentiment', 'trueSentiment': 'No sentiment'}, {'sentiment': 'No sentiment', 'trueSentiment': 'No sentiment'}, {'sentiment': 'No sentiment', 'trueSentiment': 'No sentiment'}, {'sentiment': 'No sentiment', 'trueSentiment': 'No sentiment'}, {'sentiment': 'No sentiment', 'trueSentiment': 'No sentiment'}, {'sentiment': 'No sentiment', 'trueSentiment': 'No sentiment'}, {'sentiment': 'No sentiment', 'trueSentiment': 'No sentiment'}, {'sentiment': 'No sentiment', 'trueSentiment': 'No sentiment'}, {'sentiment': 'No sentiment', 'trueSentiment': 'No sentiment'}, {'sentiment': 'No sentiment', 'trueSentiment': 'No sentiment'}, {'sentiment': 'No sentiment', 'trueSentiment': 'No sentiment'}, {'sentiment': 'No sentiment', 'trueSentiment': 'No sentiment'}, {'sentiment': 'No sentiment', 'trueSentiment': 'No sentiment'}, {'sentiment': 'No sentiment', 'trueSentiment': 'No sentiment'}, {'sentiment': 'No sentiment', 'trueSentiment': 'No sentiment'}, {'sentiment': 'No sentiment', 'trueSentiment': 'Positive'}, {'sentiment': 'No sentiment', 'trueSentiment': 'No sentiment'}, {'sentiment': 'No sentiment', 'trueSentiment': 'No sentiment'}, {'sentiment': 'No sentiment', 'trueSentiment': 'Positive'}, {'sentiment': 'No sentiment', 'trueSentiment': 'No sentiment'}, {'sentiment': 'No sentiment', 'trueSentiment': 'No sentiment'}, {'sentiment': 'No sentiment', 'trueSentiment': 'No sentiment'}, {'sentiment': 'No sentiment', 'trueSentiment': 'No sentiment'}, {'sentiment': 'No sentiment', 'trueSentiment': 'No sentiment'}, {'sentiment': 'No sentiment', 'trueSentiment': 'No sentiment'}, {'sentiment': 'No sentiment', 'trueSentiment': 'No sentiment'}, {'sentiment': 'No sentiment', 'trueSentiment': 'No sentiment'}, {'sentiment': 'No sentiment', 'trueSentiment': 'No sentiment'}, {'sentiment': 'No sentiment', 'trueSentiment': 'No sentiment'}, {'sentiment': 'No sentiment', 'trueSentiment': 'No sentiment'}, {'sentiment': 'No sentiment', 'trueSentiment': 'No sentiment'}, {'sentiment': 'No sentiment', 'trueSentiment': 'No sentiment'}, {'sentiment': 'No sentiment', 'trueSentiment': 'Positive'}, {'sentiment': 'No sentiment', 'trueSentiment': 'No sentiment'}, {'sentiment': 'No sentiment', 'trueSentiment': 'No sentiment'}, {'sentiment': 'No sentiment', 'trueSentiment': 'Positive'}, {'sentiment': 'No sentiment', 'trueSentiment': 'Positive'}, {'sentiment': 'No sentiment', 'trueSentiment': 'No sentiment'}, {'sentiment': 'No sentiment', 'trueSentiment': 'No sentiment'}, {'sentiment': 'No sentiment', 'trueSentiment': 'No sentiment'}, {'sentiment': 'No sentiment', 'trueSentiment': 'No sentiment'}, {'sentiment': 'No sentiment', 'trueSentiment': 'Positive'}, {'sentiment': 'No sentiment', 'trueSentiment': 'No sentiment'}, {'sentiment': 'No sentiment', 'trueSentiment': 'Positive'}, {'sentiment': 'No sentiment', 'trueSentiment': 'No sentiment'}, {'sentiment': 'No sentiment', 'trueSentiment': 'No sentiment'}, {'sentiment': 'No sentiment', 'trueSentiment': 'No sentiment'}, {'sentiment': 'No sentiment', 'trueSentiment': 'No sentiment'}, {'sentiment': 'No sentiment', 'trueSentiment': 'Positive'}, {'sentiment': 'No sentiment', 'trueSentiment': 'No sentiment'}, {'sentiment': 'No sentiment', 'trueSentiment': 'Positive'}, {'sentiment': 'No sentiment', 'trueSentiment': 'No sentiment'}, {'sentiment': 'No sentiment', 'trueSentiment': 'Neutral'}, {'sentiment': 'No sentiment', 'trueSentiment': 'No sentiment'}, {'sentiment': 'No sentiment', 'trueSentiment': 'Positive'}, {'sentiment': 'No sentiment', 'trueSentiment': 'No sentiment'}, {'sentiment': 'No sentiment', 'trueSentiment': 'Positive'}, {'sentiment': 'No sentiment', 'trueSentiment': 'No sentiment'}, {'sentiment': 'No sentiment', 'trueSentiment': 'No sentiment'}, {'sentiment': 'No sentiment', 'trueSentiment': 'No sentiment'}, {'sentiment': 'No sentiment', 'trueSentiment': 'No sentiment'}, {'sentiment': 'No sentiment', 'trueSentiment': 'No sentiment'}, {'sentiment': 'No sentiment', 'trueSentiment': 'No sentiment'}, {'sentiment': 'No sentiment', 'trueSentiment': 'No sentiment'}, {'sentiment': 'No sentiment', 'trueSentiment': 'No sentiment'}, {'sentiment': 'No sentiment', 'trueSentiment': 'No sentiment'}, {'sentiment': 'No sentiment', 'trueSentiment': 'No sentiment'}, {'sentiment': 'No sentiment', 'trueSentiment': 'No sentiment'}, {'sentiment': 'No sentiment', 'trueSentiment': 'No sentiment'}, {'sentiment': 'No sentiment', 'trueSentiment': 'Positive'}, {'sentiment': 'No sentiment', 'trueSentiment': 'No sentiment'}, {'sentiment': 'No sentiment', 'trueSentiment': 'No sentiment'}, {'sentiment': 'No sentiment', 'trueSentiment': 'Positive'}, {'sentiment': 'No sentiment', 'trueSentiment': 'No sentiment'}, {'sentiment': 'No sentiment', 'trueSentiment': 'Positive'}, {'sentiment': 'No sentiment', 'trueSentiment': 'Positive'}, {'sentiment': 'No sentiment', 'trueSentiment': 'Positive'}, {'sentiment': 'No sentiment', 'trueSentiment': 'No sentiment'}, {'sentiment': 'No sentiment', 'trueSentiment': 'No sentiment'}, {'sentiment': 'No sentiment', 'trueSentiment': 'No sentiment'}, {'sentiment': 'No sentiment', 'trueSentiment': 'No sentiment'}, {'sentiment': 'No sentiment', 'trueSentiment': 'Positive'}, {'sentiment': 'No sentiment', 'trueSentiment': 'Positive'}, {'sentiment': 'Positive', 'trueSentiment': 'Positive'}, {'sentiment': 'No sentiment', 'trueSentiment': 'Positive'}, {'sentiment': 'No sentiment', 'trueSentiment': 'Positive'}, {'sentiment': 'No sentiment', 'trueSentiment': 'No sentiment'}, {'sentiment': 'No sentiment', 'trueSentiment': 'No sentiment'}, {'sentiment': 'No sentiment', 'trueSentiment': 'No sentiment'}, {'sentiment': 'No sentiment', 'trueSentiment': 'No sentiment'}, {'sentiment': 'No sentiment', 'trueSentiment': 'No sentiment'}, {'sentiment': 'No sentiment', 'trueSentiment': 'Positive'}, {'sentiment': 'No sentiment', 'trueSentiment': 'No sentiment'}, {'sentiment': 'No sentiment', 'trueSentiment': 'No sentiment'}, {'sentiment': 'No sentiment', 'trueSentiment': 'Positive'}, {'sentiment': 'No sentiment', 'trueSentiment': 'No sentiment'}, {'sentiment': 'No sentiment', 'trueSentiment': 'No sentiment'}, {'sentiment': 'No sentiment', 'trueSentiment': 'Positive'}, {'sentiment': 'No sentiment', 'trueSentiment': 'No sentiment'}, {'sentiment': 'No sentiment', 'trueSentiment': 'Positive'}, {'sentiment': 'No sentiment', 'trueSentiment': 'No sentiment'}, {'sentiment': 'No sentiment', 'trueSentiment': 'No sentiment'}, {'sentiment': 'No sentiment', 'trueSentiment': 'No sentiment'}, {'sentiment': 'No sentiment', 'trueSentiment': 'No sentiment'}, {'sentiment': 'Positive', 'trueSentiment': 'Positive'}, {'sentiment': 'No sentiment', 'trueSentiment': 'No sentiment'}, {'sentiment': 'No sentiment', 'trueSentiment': 'No sentiment'}, {'sentiment': 'No sentiment', 'trueSentiment': 'Positive'}, {'sentiment': 'No sentiment', 'trueSentiment': 'Positive'}, {'sentiment': 'No sentiment', 'trueSentiment': 'Positive'}, {'sentiment': 'No sentiment', 'trueSentiment': 'No sentiment'}, {'sentiment': 'No sentiment', 'trueSentiment': 'No sentiment'}, {'sentiment': 'No sentiment', 'trueSentiment': 'Positive'}, {'sentiment': 'No sentiment', 'trueSentiment': 'Positive'}, {'sentiment': 'No sentiment', 'trueSentiment': 'No sentiment'}, {'sentiment': 'No sentiment', 'trueSentiment': 'Neutral'}, {'sentiment': 'No sentiment', 'trueSentiment': 'No sentiment'}, {'sentiment': 'No sentiment', 'trueSentiment': 'No sentiment'}, {'sentiment': 'No sentiment', 'trueSentiment': 'Positive'}, {'sentiment': 'No sentiment', 'trueSentiment': 'Positive'}, {'sentiment': 'No sentiment', 'trueSentiment': 'No sentiment'}, {'sentiment': 'No sentiment', 'trueSentiment': 'Positive'}, {'sentiment': 'No sentiment', 'trueSentiment': 'No sentiment'}, {'sentiment': 'No sentiment', 'trueSentiment': 'No sentiment'}, {'sentiment': 'No sentiment', 'trueSentiment': 'Positive'}, {'sentiment': 'No sentiment', 'trueSentiment': 'Positive'}, {'sentiment': 'No sentiment', 'trueSentiment': 'No sentiment'}, {'sentiment': 'No sentiment', 'trueSentiment': 'No sentiment'}, {'sentiment': 'No sentiment', 'trueSentiment': 'Neutral'}, {'sentiment': 'No sentiment', 'trueSentiment': 'Positive'}, {'sentiment': 'No sentiment', 'trueSentiment': 'Positive'}, {'sentiment': 'No sentiment', 'trueSentiment': 'No sentiment'}, {'sentiment': 'No sentiment', 'trueSentiment': 'Neutral'}, {'sentiment': 'No sentiment', 'trueSentiment': 'No sentiment'}, {'sentiment': 'No sentiment', 'trueSentiment': 'No sentiment'}, {'sentiment': 'No sentiment', 'trueSentiment': 'No sentiment'}, {'sentiment': 'No sentiment', 'trueSentiment': 'Positive'}, {'sentiment': 'No sentiment', 'trueSentiment': 'Positive'}, {'sentiment': 'No sentiment', 'trueSentiment': 'Negative'}, {'sentiment': 'No sentiment', 'trueSentiment': 'No sentiment'}, {'sentiment': 'No sentiment', 'trueSentiment': 'No sentiment'}, {'sentiment': 'No sentiment', 'trueSentiment': 'No sentiment'}, {'sentiment': 'No sentiment', 'trueSentiment': 'No sentiment'}, {'sentiment': 'No sentiment', 'trueSentiment': 'No sentiment'}, {'sentiment': 'No sentiment', 'trueSentiment': 'No sentiment'}, {'sentiment': 'No sentiment', 'trueSentiment': 'No sentiment'}, {'sentiment': 'No sentiment', 'trueSentiment': 'No sentiment'}, {'sentiment': 'No sentiment', 'trueSentiment': 'Neutral'}, {'sentiment': 'No sentiment', 'trueSentiment': 'Positive'}, {'sentiment': 'No sentiment', 'trueSentiment': 'No sentiment'}, {'sentiment': 'No sentiment', 'trueSentiment': 'Positive'}, {'sentiment': 'No sentiment', 'trueSentiment': 'No sentiment'}, {'sentiment': 'No sentiment', 'trueSentiment': 'No sentiment'}, {'sentiment': 'No sentiment', 'trueSentiment': 'Positive'}, {'sentiment': 'No sentiment', 'trueSentiment': 'Neutral'}, {'sentiment': 'No sentiment', 'trueSentiment': 'Negative'}, {'sentiment': 'No sentiment', 'trueSentiment': 'No sentiment'}, {'sentiment': 'No sentiment', 'trueSentiment': 'No sentiment'}, {'sentiment': 'No sentiment', 'trueSentiment': 'No sentiment'}, {'sentiment': 'No sentiment', 'trueSentiment': 'No sentiment'}, {'sentiment': 'No sentiment', 'trueSentiment': 'No sentiment'}, {'sentiment': 'No sentiment', 'trueSentiment': 'Neutral'}, {'sentiment': 'No sentiment', 'trueSentiment': 'No sentiment'}, {'sentiment': 'No sentiment', 'trueSentiment': 'No sentiment'}, {'sentiment': 'No sentiment', 'trueSentiment': 'No sentiment'}, {'sentiment': 'No sentiment', 'trueSentiment': 'No sentiment'}, {'sentiment': 'No sentiment', 'trueSentiment': 'Neutral'}, {'sentiment': 'No sentiment', 'trueSentiment': 'No sentiment'}, {'sentiment': 'No sentiment', 'trueSentiment': 'No sentiment'}, {'sentiment': 'No sentiment', 'trueSentiment': 'No sentiment'}, {'sentiment': 'No sentiment', 'trueSentiment': 'No sentiment'}, {'sentiment': 'No sentiment', 'trueSentiment': 'Positive'}, {'sentiment': 'No sentiment', 'trueSentiment': 'Positive'}, {'sentiment': 'No sentiment', 'trueSentiment': 'No sentiment'}, {'sentiment': 'No sentiment', 'trueSentiment': 'No sentiment'}, {'sentiment': 'No sentiment', 'trueSentiment': 'No sentiment'}, {'sentiment': 'No sentiment', 'trueSentiment': 'Positive'}, {'sentiment': 'No sentiment', 'trueSentiment': 'No sentiment'}, {'sentiment': 'No sentiment', 'trueSentiment': 'Positive'}, {'sentiment': 'No sentiment', 'trueSentiment': 'Neutral'}, {'sentiment': 'No sentiment', 'trueSentiment': 'Positive'}, {'sentiment': 'No sentiment', 'trueSentiment': 'Positive'}, {'sentiment': 'No sentiment', 'trueSentiment': 'Positive'}, {'sentiment': 'No sentiment', 'trueSentiment': 'Positive'}, {'sentiment': 'No sentiment', 'trueSentiment': 'No sentiment'}, {'sentiment': 'No sentiment', 'trueSentiment': 'Positive'}, {'sentiment': 'No sentiment', 'trueSentiment': 'No sentiment'}, {'sentiment': 'No sentiment', 'trueSentiment': 'No sentiment'}, {'sentiment': 'No sentiment', 'trueSentiment': 'Positive'}, {'sentiment': 'No sentiment', 'trueSentiment': 'No sentiment'}, {'sentiment': 'No sentiment', 'trueSentiment': 'No sentiment'}]\n",
      "Accuracy: 59.97%\n"
     ]
    }
   ],
   "execution_count": 37
  },
  {
   "metadata": {},
   "cell_type": "markdown",
   "source": "This model has an accuracy of 59.97%",
   "id": "e2460980d4d23a09"
  },
  {
   "metadata": {},
   "cell_type": "markdown",
   "source": "",
   "id": "82502f6957ddf10d"
  },
  {
   "metadata": {
    "ExecuteTime": {
     "end_time": "2024-11-22T18:12:06.011227Z",
     "start_time": "2024-11-22T18:12:03.393834Z"
    }
   },
   "cell_type": "code",
   "source": [
    "import torch\n",
    "from transformers import AutoTokenizer, AutoModelForSequenceClassification, AutoModelForSeq2SeqLM\n",
    "from sklearn.metrics import accuracy_score\n",
    "import pandas as pd\n",
    "\n",
    "# Verifica se la GPU è disponibile\n",
    "device = torch.device(\"cuda\" if torch.cuda.is_available() else \"cpu\")\n",
    "print(f\"Using device: {device}\")\n",
    "\n",
    "# Carica il tokenizer e il modello di traduzione (Italiano -> Inglese)\n",
    "translation_tokenizer = AutoTokenizer.from_pretrained(\"Helsinki-NLP/opus-mt-it-en\")\n",
    "translation_model = AutoModelForSeq2SeqLM.from_pretrained(\"Helsinki-NLP/opus-mt-it-en\").to(device)\n",
    "\n",
    "# Carica il tokenizer e il modello per la sentiment analysis\n",
    "sentiment_tokenizer = AutoTokenizer.from_pretrained(\"cardiffnlp/twitter-roberta-base-sentiment-latest\")\n",
    "sentiment_model = AutoModelForSequenceClassification.from_pretrained(\"cardiffnlp/twitter-roberta-base-sentiment-latest\").to(device)\n",
    "\n",
    "# Carica il dataset\n",
    "dataset2 = pd.read_csv(\"Tiny Eco Digimind.csv\", sep=\";\", on_bad_lines=\"skip\")\n",
    "dataset2.columns = dataset2.columns.str.strip()\n",
    "\n",
    "# Prepara i testi\n",
    "texts2 = dataset2['Title'].fillna('') + ' ' + dataset2['Detail'].fillna('')\n",
    "texts2 = texts2.str.replace(r'\\s+', ' ', regex=True).str.strip().str.replace('\\n', ' ', regex=True)\n",
    "\n",
    "# Verifica se i sentimenti veri sono corretti\n",
    "trueSentiment2 = dataset2['Sentiment'].str.strip()\n",
    "\n",
    "def translate_text(text):\n",
    "    # Tokenizza il testo per la traduzione\n",
    "    inputs = translation_tokenizer(text, return_tensors=\"pt\", padding=True, truncation=True, max_length=512).to(device)\n",
    "\n",
    "    # Invia il testo al modello di traduzione\n",
    "    with torch.no_grad():\n",
    "        translated_ids = translation_model.generate(**inputs)\n",
    "\n",
    "    # Decodifica la traduzione (da ID a testo)\n",
    "    translated_text = translation_tokenizer.decode(translated_ids[0], skip_special_tokens=True)\n",
    "    return translated_text\n",
    "\n",
    "def get_sentiment(text, true_sentiment):\n",
    "    # Traduci il testo prima di eseguire l'analisi del sentiment\n",
    "    translated_text = translate_text(text)\n",
    "\n",
    "    # Tokenizza il testo tradotto per l'analisi del sentiment\n",
    "    inputs = sentiment_tokenizer(translated_text, return_tensors=\"pt\", truncation=True, padding=True, max_length=512).to(device)\n",
    "\n",
    "    # Invia il testo al modello di sentiment analysis\n",
    "    with torch.no_grad():\n",
    "        outputs = sentiment_model(**inputs)\n",
    "\n",
    "    # Ottieni le probabilità di sentiment (classi: 0 = Negative, 1 = No sentiment, 2 = Positive)\n",
    "    sentiment_scores = outputs.logits\n",
    "    sentiment_numeric = torch.argmax(sentiment_scores, dim=1).item()  # Ottieni la classe con la probabilità più alta\n",
    "\n",
    "    # Mappa numeri a etichette\n",
    "    sentiment_map = {\n",
    "        0: \"Negative\",\n",
    "        1: \"No sentiment\",\n",
    "        2: \"Positive\"\n",
    "    }\n",
    "    sentiment = sentiment_map.get(sentiment_numeric, \"Unknown\")  # Default a 'Unknown' per valori imprevisti\n",
    "\n",
    "    return {'sentiment': sentiment, 'trueSentiment': true_sentiment}\n",
    "\n",
    "# Applica la funzione di sentiment analysis a tutti i testi\n",
    "sentiments4 = [get_sentiment(text2, true_sentiment) for text2, true_sentiment in zip(texts2, trueSentiment2)]\n",
    "\n",
    "print(sentiments4)\n",
    "\n",
    "# Estrai le predizioni e i sentimenti veri\n",
    "predicted_sentiments = [item['sentiment'] for item in sentiments4]\n",
    "true_sentiments = list(trueSentiment2)\n",
    "\n",
    "# Calcola l'accuracy\n",
    "accuracy = accuracy_score(true_sentiments, predicted_sentiments)\n",
    "\n",
    "# Stampa il risultato\n",
    "print(f\"Accuracy: {accuracy:.2%}\")\n",
    "ciao "
   ],
   "id": "7abb11bc2e992bf6",
   "outputs": [
    {
     "name": "stdout",
     "output_type": "stream",
     "text": [
      "Using device: cuda\n"
     ]
    },
    {
     "name": "stderr",
     "output_type": "stream",
     "text": [
      "C:\\Users\\aless\\anaconda3\\Lib\\site-packages\\transformers\\models\\marian\\tokenization_marian.py:175: UserWarning: Recommended: pip install sacremoses.\n",
      "  warnings.warn(\"Recommended: pip install sacremoses.\")\n"
     ]
    },
    {
     "ename": "RuntimeError",
     "evalue": "CUDA error: device-side assert triggered\nCUDA kernel errors might be asynchronously reported at some other API call, so the stacktrace below might be incorrect.\nFor debugging consider passing CUDA_LAUNCH_BLOCKING=1\nCompile with `TORCH_USE_CUDA_DSA` to enable device-side assertions.\n",
     "output_type": "error",
     "traceback": [
      "\u001B[1;31m---------------------------------------------------------------------------\u001B[0m",
      "\u001B[1;31mRuntimeError\u001B[0m                              Traceback (most recent call last)",
      "Cell \u001B[1;32mIn[6], line 14\u001B[0m\n\u001B[0;32m     12\u001B[0m \u001B[38;5;66;03m# Carica il tokenizer e il modello di traduzione (Italiano -> Inglese)\u001B[39;00m\n\u001B[0;32m     13\u001B[0m translation_tokenizer \u001B[38;5;241m=\u001B[39m AutoTokenizer\u001B[38;5;241m.\u001B[39mfrom_pretrained(\u001B[38;5;124m\"\u001B[39m\u001B[38;5;124mHelsinki-NLP/opus-mt-it-en\u001B[39m\u001B[38;5;124m\"\u001B[39m)\n\u001B[1;32m---> 14\u001B[0m translation_model \u001B[38;5;241m=\u001B[39m AutoModelForSeq2SeqLM\u001B[38;5;241m.\u001B[39mfrom_pretrained(\u001B[38;5;124m\"\u001B[39m\u001B[38;5;124mHelsinki-NLP/opus-mt-it-en\u001B[39m\u001B[38;5;124m\"\u001B[39m)\u001B[38;5;241m.\u001B[39mto(device)\n\u001B[0;32m     16\u001B[0m \u001B[38;5;66;03m# Carica il tokenizer e il modello per la sentiment analysis\u001B[39;00m\n\u001B[0;32m     17\u001B[0m sentiment_tokenizer \u001B[38;5;241m=\u001B[39m AutoTokenizer\u001B[38;5;241m.\u001B[39mfrom_pretrained(\u001B[38;5;124m\"\u001B[39m\u001B[38;5;124mcardiffnlp/twitter-roberta-base-sentiment-latest\u001B[39m\u001B[38;5;124m\"\u001B[39m)\n",
      "File \u001B[1;32m~\\anaconda3\\Lib\\site-packages\\transformers\\modeling_utils.py:2958\u001B[0m, in \u001B[0;36mPreTrainedModel.to\u001B[1;34m(self, *args, **kwargs)\u001B[0m\n\u001B[0;32m   2953\u001B[0m     \u001B[38;5;28;01mif\u001B[39;00m dtype_present_in_args:\n\u001B[0;32m   2954\u001B[0m         \u001B[38;5;28;01mraise\u001B[39;00m \u001B[38;5;167;01mValueError\u001B[39;00m(\n\u001B[0;32m   2955\u001B[0m             \u001B[38;5;124m\"\u001B[39m\u001B[38;5;124mYou cannot cast a GPTQ model in a new `dtype`. Make sure to load the model using `from_pretrained` using the desired\u001B[39m\u001B[38;5;124m\"\u001B[39m\n\u001B[0;32m   2956\u001B[0m             \u001B[38;5;124m\"\u001B[39m\u001B[38;5;124m `dtype` by passing the correct `torch_dtype` argument.\u001B[39m\u001B[38;5;124m\"\u001B[39m\n\u001B[0;32m   2957\u001B[0m         )\n\u001B[1;32m-> 2958\u001B[0m \u001B[38;5;28;01mreturn\u001B[39;00m \u001B[38;5;28msuper\u001B[39m()\u001B[38;5;241m.\u001B[39mto(\u001B[38;5;241m*\u001B[39margs, \u001B[38;5;241m*\u001B[39m\u001B[38;5;241m*\u001B[39mkwargs)\n",
      "File \u001B[1;32m~\\anaconda3\\Lib\\site-packages\\torch\\nn\\modules\\module.py:1340\u001B[0m, in \u001B[0;36mModule.to\u001B[1;34m(self, *args, **kwargs)\u001B[0m\n\u001B[0;32m   1337\u001B[0m         \u001B[38;5;28;01melse\u001B[39;00m:\n\u001B[0;32m   1338\u001B[0m             \u001B[38;5;28;01mraise\u001B[39;00m\n\u001B[1;32m-> 1340\u001B[0m \u001B[38;5;28;01mreturn\u001B[39;00m \u001B[38;5;28mself\u001B[39m\u001B[38;5;241m.\u001B[39m_apply(convert)\n",
      "File \u001B[1;32m~\\anaconda3\\Lib\\site-packages\\torch\\nn\\modules\\module.py:900\u001B[0m, in \u001B[0;36mModule._apply\u001B[1;34m(self, fn, recurse)\u001B[0m\n\u001B[0;32m    898\u001B[0m \u001B[38;5;28;01mif\u001B[39;00m recurse:\n\u001B[0;32m    899\u001B[0m     \u001B[38;5;28;01mfor\u001B[39;00m module \u001B[38;5;129;01min\u001B[39;00m \u001B[38;5;28mself\u001B[39m\u001B[38;5;241m.\u001B[39mchildren():\n\u001B[1;32m--> 900\u001B[0m         module\u001B[38;5;241m.\u001B[39m_apply(fn)\n\u001B[0;32m    902\u001B[0m \u001B[38;5;28;01mdef\u001B[39;00m \u001B[38;5;21mcompute_should_use_set_data\u001B[39m(tensor, tensor_applied):\n\u001B[0;32m    903\u001B[0m     \u001B[38;5;28;01mif\u001B[39;00m torch\u001B[38;5;241m.\u001B[39m_has_compatible_shallow_copy_type(tensor, tensor_applied):\n\u001B[0;32m    904\u001B[0m         \u001B[38;5;66;03m# If the new tensor has compatible tensor type as the existing tensor,\u001B[39;00m\n\u001B[0;32m    905\u001B[0m         \u001B[38;5;66;03m# the current behavior is to change the tensor in-place using `.data =`,\u001B[39;00m\n\u001B[1;32m   (...)\u001B[0m\n\u001B[0;32m    910\u001B[0m         \u001B[38;5;66;03m# global flag to let the user control whether they want the future\u001B[39;00m\n\u001B[0;32m    911\u001B[0m         \u001B[38;5;66;03m# behavior of overwriting the existing tensor or not.\u001B[39;00m\n",
      "File \u001B[1;32m~\\anaconda3\\Lib\\site-packages\\torch\\nn\\modules\\module.py:900\u001B[0m, in \u001B[0;36mModule._apply\u001B[1;34m(self, fn, recurse)\u001B[0m\n\u001B[0;32m    898\u001B[0m \u001B[38;5;28;01mif\u001B[39;00m recurse:\n\u001B[0;32m    899\u001B[0m     \u001B[38;5;28;01mfor\u001B[39;00m module \u001B[38;5;129;01min\u001B[39;00m \u001B[38;5;28mself\u001B[39m\u001B[38;5;241m.\u001B[39mchildren():\n\u001B[1;32m--> 900\u001B[0m         module\u001B[38;5;241m.\u001B[39m_apply(fn)\n\u001B[0;32m    902\u001B[0m \u001B[38;5;28;01mdef\u001B[39;00m \u001B[38;5;21mcompute_should_use_set_data\u001B[39m(tensor, tensor_applied):\n\u001B[0;32m    903\u001B[0m     \u001B[38;5;28;01mif\u001B[39;00m torch\u001B[38;5;241m.\u001B[39m_has_compatible_shallow_copy_type(tensor, tensor_applied):\n\u001B[0;32m    904\u001B[0m         \u001B[38;5;66;03m# If the new tensor has compatible tensor type as the existing tensor,\u001B[39;00m\n\u001B[0;32m    905\u001B[0m         \u001B[38;5;66;03m# the current behavior is to change the tensor in-place using `.data =`,\u001B[39;00m\n\u001B[1;32m   (...)\u001B[0m\n\u001B[0;32m    910\u001B[0m         \u001B[38;5;66;03m# global flag to let the user control whether they want the future\u001B[39;00m\n\u001B[0;32m    911\u001B[0m         \u001B[38;5;66;03m# behavior of overwriting the existing tensor or not.\u001B[39;00m\n",
      "File \u001B[1;32m~\\anaconda3\\Lib\\site-packages\\torch\\nn\\modules\\module.py:927\u001B[0m, in \u001B[0;36mModule._apply\u001B[1;34m(self, fn, recurse)\u001B[0m\n\u001B[0;32m    923\u001B[0m \u001B[38;5;66;03m# Tensors stored in modules are graph leaves, and we don't want to\u001B[39;00m\n\u001B[0;32m    924\u001B[0m \u001B[38;5;66;03m# track autograd history of `param_applied`, so we have to use\u001B[39;00m\n\u001B[0;32m    925\u001B[0m \u001B[38;5;66;03m# `with torch.no_grad():`\u001B[39;00m\n\u001B[0;32m    926\u001B[0m \u001B[38;5;28;01mwith\u001B[39;00m torch\u001B[38;5;241m.\u001B[39mno_grad():\n\u001B[1;32m--> 927\u001B[0m     param_applied \u001B[38;5;241m=\u001B[39m fn(param)\n\u001B[0;32m    928\u001B[0m p_should_use_set_data \u001B[38;5;241m=\u001B[39m compute_should_use_set_data(param, param_applied)\n\u001B[0;32m    930\u001B[0m \u001B[38;5;66;03m# subclasses may have multiple child tensors so we need to use swap_tensors\u001B[39;00m\n",
      "File \u001B[1;32m~\\anaconda3\\Lib\\site-packages\\torch\\nn\\modules\\module.py:1326\u001B[0m, in \u001B[0;36mModule.to.<locals>.convert\u001B[1;34m(t)\u001B[0m\n\u001B[0;32m   1319\u001B[0m     \u001B[38;5;28;01mif\u001B[39;00m convert_to_format \u001B[38;5;129;01mis\u001B[39;00m \u001B[38;5;129;01mnot\u001B[39;00m \u001B[38;5;28;01mNone\u001B[39;00m \u001B[38;5;129;01mand\u001B[39;00m t\u001B[38;5;241m.\u001B[39mdim() \u001B[38;5;129;01min\u001B[39;00m (\u001B[38;5;241m4\u001B[39m, \u001B[38;5;241m5\u001B[39m):\n\u001B[0;32m   1320\u001B[0m         \u001B[38;5;28;01mreturn\u001B[39;00m t\u001B[38;5;241m.\u001B[39mto(\n\u001B[0;32m   1321\u001B[0m             device,\n\u001B[0;32m   1322\u001B[0m             dtype \u001B[38;5;28;01mif\u001B[39;00m t\u001B[38;5;241m.\u001B[39mis_floating_point() \u001B[38;5;129;01mor\u001B[39;00m t\u001B[38;5;241m.\u001B[39mis_complex() \u001B[38;5;28;01melse\u001B[39;00m \u001B[38;5;28;01mNone\u001B[39;00m,\n\u001B[0;32m   1323\u001B[0m             non_blocking,\n\u001B[0;32m   1324\u001B[0m             memory_format\u001B[38;5;241m=\u001B[39mconvert_to_format,\n\u001B[0;32m   1325\u001B[0m         )\n\u001B[1;32m-> 1326\u001B[0m     \u001B[38;5;28;01mreturn\u001B[39;00m t\u001B[38;5;241m.\u001B[39mto(\n\u001B[0;32m   1327\u001B[0m         device,\n\u001B[0;32m   1328\u001B[0m         dtype \u001B[38;5;28;01mif\u001B[39;00m t\u001B[38;5;241m.\u001B[39mis_floating_point() \u001B[38;5;129;01mor\u001B[39;00m t\u001B[38;5;241m.\u001B[39mis_complex() \u001B[38;5;28;01melse\u001B[39;00m \u001B[38;5;28;01mNone\u001B[39;00m,\n\u001B[0;32m   1329\u001B[0m         non_blocking,\n\u001B[0;32m   1330\u001B[0m     )\n\u001B[0;32m   1331\u001B[0m \u001B[38;5;28;01mexcept\u001B[39;00m \u001B[38;5;167;01mNotImplementedError\u001B[39;00m \u001B[38;5;28;01mas\u001B[39;00m e:\n\u001B[0;32m   1332\u001B[0m     \u001B[38;5;28;01mif\u001B[39;00m \u001B[38;5;28mstr\u001B[39m(e) \u001B[38;5;241m==\u001B[39m \u001B[38;5;124m\"\u001B[39m\u001B[38;5;124mCannot copy out of meta tensor; no data!\u001B[39m\u001B[38;5;124m\"\u001B[39m:\n",
      "\u001B[1;31mRuntimeError\u001B[0m: CUDA error: device-side assert triggered\nCUDA kernel errors might be asynchronously reported at some other API call, so the stacktrace below might be incorrect.\nFor debugging consider passing CUDA_LAUNCH_BLOCKING=1\nCompile with `TORCH_USE_CUDA_DSA` to enable device-side assertions.\n"
     ]
    }
   ],
   "execution_count": 6
  }
 ],
 "metadata": {
  "kernelspec": {
   "display_name": "Python 3",
   "language": "python",
   "name": "python3"
  },
  "language_info": {
   "codemirror_mode": {
    "name": "ipython",
    "version": 2
   },
   "file_extension": ".py",
   "mimetype": "text/x-python",
   "name": "python",
   "nbconvert_exporter": "python",
   "pygments_lexer": "ipython2",
   "version": "2.7.6"
  }
 },
 "nbformat": 4,
 "nbformat_minor": 5
}
